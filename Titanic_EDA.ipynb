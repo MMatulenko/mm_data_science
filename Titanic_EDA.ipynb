{
 "cells": [
  {
   "cell_type": "markdown",
   "id": "260d392a",
   "metadata": {
    "id": "noted-hollow"
   },
   "source": [
    "# Exploratory data analysis"
   ]
  },
  {
   "cell_type": "markdown",
   "id": "76f1a3ad",
   "metadata": {
    "id": "final-quarterly"
   },
   "source": [
    "1. PassengerId: Уникальный индекс/номер строки. Начинается с 1 (для первой строки) и увеличивается на 1 для каждой следующей. Рассматриваем его как индентификатор строки и, что логично, идентификатор пассжира (т.к. для каждого пассажира в датасете представлена только одна строка).\n",
    "2. Survived: Признак, показывающий был ли спасен данный пассажир или нет. 1 означает, что удалось выжить, и 0 - не удалось спастись.\n",
    "3. Pclass: Класс билета. 1 - означает Первый класс билета. 2 - означает Второй класс билета. 3 - означает Третий класс билета.\n",
    "4. Name: Имя пассажира. Имя также может содержать титулы и обращения. \"Mr\" для мужчин. \"Mrs\" для женщин. \"Miss\" для девушек (тут имеется в виду что для тех, кто не замужем, так было принято, да и сейчас тоже, говорить в западном обществе). \"Master\" для юношей.\n",
    "5. Sex: Пол пассажира. Либо мужчины (=Male) Либо женщины (=Female).\n",
    "6. Age: Возраст пассажира. \"NaN\" значения в этой колонке означают, что возраст данного пассажира отсутствует/неизвестен/или не был записанv в датасет.\n",
    "7. SibSp: Количество братьев/сестер или супругов, путешествующих с каждым пассажиром.\n",
    "8. Parch: Количество родителей/детей.\n",
    "9. Ticket: Номер билета.\n",
    "10. Fare: Сумма, которую заплатил пассажир за путешествие.\n",
    "11. Cabin: Номер каюты пассажира. \"NaN\" значения в этой колонке указавает на то, что номер каюты данного пассажира не был записан.\n",
    "12. Embarked: Порт отправления данного пассажира."
   ]
  },
  {
   "cell_type": "code",
   "execution_count": 3,
   "id": "d45ee786",
   "metadata": {
    "id": "alone-tournament"
   },
   "outputs": [],
   "source": [
    "import pandas as pd\n",
    "import numpy as np\n",
    "import seaborn as sns\n",
    "import matplotlib.pyplot as plt\n",
    "\n",
    "def plot_values(graph, frequency = False, scales=(0.,2.)):\n",
    "    for p in graph.ax.patches:\n",
    "        txt_x, txt_y = p.get_x(), p.get_height()\n",
    "        txt =  '        ' + str(p.get_height().round(2))\n",
    "        txt += '%' if frequency else ''\n",
    "        graph.ax.text(txt_x + scales[0],txt_y + scales[1], txt)\n"
   ]
  },
  {
   "cell_type": "code",
   "execution_count": 4,
   "id": "646fa8ca",
   "metadata": {
    "id": "selected-alexander",
    "scrolled": true
   },
   "outputs": [],
   "source": [
    "data_train = pd.read_csv('titanic_train.csv')"
   ]
  },
  {
   "cell_type": "code",
   "execution_count": 5,
   "id": "e2c7e78d",
   "metadata": {
    "colab": {
     "base_uri": "https://localhost:8080/",
     "height": 204
    },
    "id": "expired-poison",
    "outputId": "e5f79fda-ade7-4220-bc12-25549bc83afd",
    "scrolled": false
   },
   "outputs": [
    {
     "data": {
      "text/html": [
       "<div>\n",
       "<style scoped>\n",
       "    .dataframe tbody tr th:only-of-type {\n",
       "        vertical-align: middle;\n",
       "    }\n",
       "\n",
       "    .dataframe tbody tr th {\n",
       "        vertical-align: top;\n",
       "    }\n",
       "\n",
       "    .dataframe thead th {\n",
       "        text-align: right;\n",
       "    }\n",
       "</style>\n",
       "<table border=\"1\" class=\"dataframe\">\n",
       "  <thead>\n",
       "    <tr style=\"text-align: right;\">\n",
       "      <th></th>\n",
       "      <th>PassengerId</th>\n",
       "      <th>Survived</th>\n",
       "      <th>Pclass</th>\n",
       "      <th>Name</th>\n",
       "      <th>Sex</th>\n",
       "      <th>Age</th>\n",
       "      <th>SibSp</th>\n",
       "      <th>Parch</th>\n",
       "      <th>Ticket</th>\n",
       "      <th>Fare</th>\n",
       "      <th>Cabin</th>\n",
       "      <th>Embarked</th>\n",
       "    </tr>\n",
       "  </thead>\n",
       "  <tbody>\n",
       "    <tr>\n",
       "      <th>0</th>\n",
       "      <td>1</td>\n",
       "      <td>0</td>\n",
       "      <td>3</td>\n",
       "      <td>Braund, Mr. Owen Harris</td>\n",
       "      <td>male</td>\n",
       "      <td>22.0</td>\n",
       "      <td>1</td>\n",
       "      <td>0</td>\n",
       "      <td>A/5 21171</td>\n",
       "      <td>7.2500</td>\n",
       "      <td>NaN</td>\n",
       "      <td>S</td>\n",
       "    </tr>\n",
       "    <tr>\n",
       "      <th>1</th>\n",
       "      <td>2</td>\n",
       "      <td>1</td>\n",
       "      <td>1</td>\n",
       "      <td>Cumings, Mrs. John Bradley (Florence Briggs Th...</td>\n",
       "      <td>female</td>\n",
       "      <td>38.0</td>\n",
       "      <td>1</td>\n",
       "      <td>0</td>\n",
       "      <td>PC 17599</td>\n",
       "      <td>71.2833</td>\n",
       "      <td>C85</td>\n",
       "      <td>C</td>\n",
       "    </tr>\n",
       "    <tr>\n",
       "      <th>2</th>\n",
       "      <td>3</td>\n",
       "      <td>1</td>\n",
       "      <td>3</td>\n",
       "      <td>Heikkinen, Miss. Laina</td>\n",
       "      <td>female</td>\n",
       "      <td>26.0</td>\n",
       "      <td>0</td>\n",
       "      <td>0</td>\n",
       "      <td>STON/O2. 3101282</td>\n",
       "      <td>7.9250</td>\n",
       "      <td>NaN</td>\n",
       "      <td>S</td>\n",
       "    </tr>\n",
       "    <tr>\n",
       "      <th>3</th>\n",
       "      <td>4</td>\n",
       "      <td>1</td>\n",
       "      <td>1</td>\n",
       "      <td>Futrelle, Mrs. Jacques Heath (Lily May Peel)</td>\n",
       "      <td>female</td>\n",
       "      <td>35.0</td>\n",
       "      <td>1</td>\n",
       "      <td>0</td>\n",
       "      <td>113803</td>\n",
       "      <td>53.1000</td>\n",
       "      <td>C123</td>\n",
       "      <td>S</td>\n",
       "    </tr>\n",
       "    <tr>\n",
       "      <th>4</th>\n",
       "      <td>5</td>\n",
       "      <td>0</td>\n",
       "      <td>3</td>\n",
       "      <td>Allen, Mr. William Henry</td>\n",
       "      <td>male</td>\n",
       "      <td>35.0</td>\n",
       "      <td>0</td>\n",
       "      <td>0</td>\n",
       "      <td>373450</td>\n",
       "      <td>8.0500</td>\n",
       "      <td>NaN</td>\n",
       "      <td>S</td>\n",
       "    </tr>\n",
       "  </tbody>\n",
       "</table>\n",
       "</div>"
      ],
      "text/plain": [
       "   PassengerId  Survived  Pclass  \\\n",
       "0            1         0       3   \n",
       "1            2         1       1   \n",
       "2            3         1       3   \n",
       "3            4         1       1   \n",
       "4            5         0       3   \n",
       "\n",
       "                                                Name     Sex   Age  SibSp  \\\n",
       "0                            Braund, Mr. Owen Harris    male  22.0      1   \n",
       "1  Cumings, Mrs. John Bradley (Florence Briggs Th...  female  38.0      1   \n",
       "2                             Heikkinen, Miss. Laina  female  26.0      0   \n",
       "3       Futrelle, Mrs. Jacques Heath (Lily May Peel)  female  35.0      1   \n",
       "4                           Allen, Mr. William Henry    male  35.0      0   \n",
       "\n",
       "   Parch            Ticket     Fare Cabin Embarked  \n",
       "0      0         A/5 21171   7.2500   NaN        S  \n",
       "1      0          PC 17599  71.2833   C85        C  \n",
       "2      0  STON/O2. 3101282   7.9250   NaN        S  \n",
       "3      0            113803  53.1000  C123        S  \n",
       "4      0            373450   8.0500   NaN        S  "
      ]
     },
     "execution_count": 5,
     "metadata": {},
     "output_type": "execute_result"
    }
   ],
   "source": [
    "data_train.head()"
   ]
  },
  {
   "cell_type": "code",
   "execution_count": 6,
   "id": "c99eddeb",
   "metadata": {
    "colab": {
     "base_uri": "https://localhost:8080/"
    },
    "id": "classified-theta",
    "outputId": "0fde2d49-8212-4cc9-b533-ebad6a033c83",
    "scrolled": false
   },
   "outputs": [
    {
     "name": "stdout",
     "output_type": "stream",
     "text": [
      "<class 'pandas.core.frame.DataFrame'>\n",
      "RangeIndex: 891 entries, 0 to 890\n",
      "Data columns (total 12 columns):\n",
      " #   Column       Non-Null Count  Dtype  \n",
      "---  ------       --------------  -----  \n",
      " 0   PassengerId  891 non-null    int64  \n",
      " 1   Survived     891 non-null    int64  \n",
      " 2   Pclass       891 non-null    int64  \n",
      " 3   Name         891 non-null    object \n",
      " 4   Sex          891 non-null    object \n",
      " 5   Age          714 non-null    float64\n",
      " 6   SibSp        891 non-null    int64  \n",
      " 7   Parch        891 non-null    int64  \n",
      " 8   Ticket       891 non-null    object \n",
      " 9   Fare         891 non-null    float64\n",
      " 10  Cabin        204 non-null    object \n",
      " 11  Embarked     889 non-null    object \n",
      "dtypes: float64(2), int64(5), object(5)\n",
      "memory usage: 83.7+ KB\n"
     ]
    }
   ],
   "source": [
    "data_train.info()"
   ]
  },
  {
   "cell_type": "markdown",
   "id": "9d84f7e4",
   "metadata": {
    "id": "original-quarter"
   },
   "source": [
    "Есть недостающие данные о возрасте"
   ]
  },
  {
   "cell_type": "code",
   "execution_count": 7,
   "id": "8443d5fd",
   "metadata": {
    "colab": {
     "base_uri": "https://localhost:8080/",
     "height": 296
    },
    "id": "assigned-health",
    "outputId": "9c634204-df8d-4a09-c250-491266d162ca",
    "scrolled": false
   },
   "outputs": [
    {
     "data": {
      "text/html": [
       "<div>\n",
       "<style scoped>\n",
       "    .dataframe tbody tr th:only-of-type {\n",
       "        vertical-align: middle;\n",
       "    }\n",
       "\n",
       "    .dataframe tbody tr th {\n",
       "        vertical-align: top;\n",
       "    }\n",
       "\n",
       "    .dataframe thead th {\n",
       "        text-align: right;\n",
       "    }\n",
       "</style>\n",
       "<table border=\"1\" class=\"dataframe\">\n",
       "  <thead>\n",
       "    <tr style=\"text-align: right;\">\n",
       "      <th></th>\n",
       "      <th>PassengerId</th>\n",
       "      <th>Survived</th>\n",
       "      <th>Pclass</th>\n",
       "      <th>Age</th>\n",
       "      <th>SibSp</th>\n",
       "      <th>Parch</th>\n",
       "      <th>Fare</th>\n",
       "    </tr>\n",
       "  </thead>\n",
       "  <tbody>\n",
       "    <tr>\n",
       "      <th>count</th>\n",
       "      <td>891.000000</td>\n",
       "      <td>891.000000</td>\n",
       "      <td>891.000000</td>\n",
       "      <td>714.000000</td>\n",
       "      <td>891.000000</td>\n",
       "      <td>891.000000</td>\n",
       "      <td>891.000000</td>\n",
       "    </tr>\n",
       "    <tr>\n",
       "      <th>mean</th>\n",
       "      <td>446.000000</td>\n",
       "      <td>0.383838</td>\n",
       "      <td>2.308642</td>\n",
       "      <td>29.699118</td>\n",
       "      <td>0.523008</td>\n",
       "      <td>0.381594</td>\n",
       "      <td>32.204208</td>\n",
       "    </tr>\n",
       "    <tr>\n",
       "      <th>std</th>\n",
       "      <td>257.353842</td>\n",
       "      <td>0.486592</td>\n",
       "      <td>0.836071</td>\n",
       "      <td>14.526497</td>\n",
       "      <td>1.102743</td>\n",
       "      <td>0.806057</td>\n",
       "      <td>49.693429</td>\n",
       "    </tr>\n",
       "    <tr>\n",
       "      <th>min</th>\n",
       "      <td>1.000000</td>\n",
       "      <td>0.000000</td>\n",
       "      <td>1.000000</td>\n",
       "      <td>0.420000</td>\n",
       "      <td>0.000000</td>\n",
       "      <td>0.000000</td>\n",
       "      <td>0.000000</td>\n",
       "    </tr>\n",
       "    <tr>\n",
       "      <th>25%</th>\n",
       "      <td>223.500000</td>\n",
       "      <td>0.000000</td>\n",
       "      <td>2.000000</td>\n",
       "      <td>20.125000</td>\n",
       "      <td>0.000000</td>\n",
       "      <td>0.000000</td>\n",
       "      <td>7.910400</td>\n",
       "    </tr>\n",
       "    <tr>\n",
       "      <th>50%</th>\n",
       "      <td>446.000000</td>\n",
       "      <td>0.000000</td>\n",
       "      <td>3.000000</td>\n",
       "      <td>28.000000</td>\n",
       "      <td>0.000000</td>\n",
       "      <td>0.000000</td>\n",
       "      <td>14.454200</td>\n",
       "    </tr>\n",
       "    <tr>\n",
       "      <th>75%</th>\n",
       "      <td>668.500000</td>\n",
       "      <td>1.000000</td>\n",
       "      <td>3.000000</td>\n",
       "      <td>38.000000</td>\n",
       "      <td>1.000000</td>\n",
       "      <td>0.000000</td>\n",
       "      <td>31.000000</td>\n",
       "    </tr>\n",
       "    <tr>\n",
       "      <th>max</th>\n",
       "      <td>891.000000</td>\n",
       "      <td>1.000000</td>\n",
       "      <td>3.000000</td>\n",
       "      <td>80.000000</td>\n",
       "      <td>8.000000</td>\n",
       "      <td>6.000000</td>\n",
       "      <td>512.329200</td>\n",
       "    </tr>\n",
       "  </tbody>\n",
       "</table>\n",
       "</div>"
      ],
      "text/plain": [
       "       PassengerId    Survived      Pclass         Age       SibSp  \\\n",
       "count   891.000000  891.000000  891.000000  714.000000  891.000000   \n",
       "mean    446.000000    0.383838    2.308642   29.699118    0.523008   \n",
       "std     257.353842    0.486592    0.836071   14.526497    1.102743   \n",
       "min       1.000000    0.000000    1.000000    0.420000    0.000000   \n",
       "25%     223.500000    0.000000    2.000000   20.125000    0.000000   \n",
       "50%     446.000000    0.000000    3.000000   28.000000    0.000000   \n",
       "75%     668.500000    1.000000    3.000000   38.000000    1.000000   \n",
       "max     891.000000    1.000000    3.000000   80.000000    8.000000   \n",
       "\n",
       "            Parch        Fare  \n",
       "count  891.000000  891.000000  \n",
       "mean     0.381594   32.204208  \n",
       "std      0.806057   49.693429  \n",
       "min      0.000000    0.000000  \n",
       "25%      0.000000    7.910400  \n",
       "50%      0.000000   14.454200  \n",
       "75%      0.000000   31.000000  \n",
       "max      6.000000  512.329200  "
      ]
     },
     "execution_count": 7,
     "metadata": {},
     "output_type": "execute_result"
    }
   ],
   "source": [
    "data_train.describe()"
   ]
  },
  {
   "cell_type": "code",
   "execution_count": 8,
   "id": "b1fa4ef1",
   "metadata": {
    "colab": {
     "base_uri": "https://localhost:8080/"
    },
    "id": "personalized-ladder",
    "outputId": "cbc58e31-2ff5-4763-d307-b5acaabcd27e"
   },
   "outputs": [
    {
     "data": {
      "text/plain": [
       "Pclass\n",
       "1    84.154687\n",
       "2    20.662183\n",
       "3    13.675550\n",
       "Name: Fare, dtype: float64"
      ]
     },
     "execution_count": 8,
     "metadata": {},
     "output_type": "execute_result"
    }
   ],
   "source": [
    "data_train.groupby(['Pclass']).Fare.mean()"
   ]
  },
  {
   "cell_type": "markdown",
   "id": "8c9e4dd5",
   "metadata": {
    "id": "TaNTOo4dKKtd"
   },
   "source": [
    "Уберем выбросы (цена больше 300) и посмотрим на график цены"
   ]
  },
  {
   "cell_type": "code",
   "execution_count": 9,
   "id": "00fd4eb6",
   "metadata": {
    "colab": {
     "base_uri": "https://localhost:8080/",
     "height": 401
    },
    "id": "transsexual-broadcasting",
    "outputId": "edd5db96-8769-4b4a-c504-fe402fe7d09e",
    "scrolled": false
   },
   "outputs": [
    {
     "data": {
      "text/plain": [
       "<seaborn.axisgrid.FacetGrid at 0x7fde71ae8b80>"
      ]
     },
     "execution_count": 9,
     "metadata": {},
     "output_type": "execute_result"
    },
    {
     "data": {
      "image/png": "[encoded data removed]",
      "text/plain": [
       "<Figure size 360x360 with 1 Axes>"
      ]
     },
     "metadata": {
      "needs_background": "light"
     },
     "output_type": "display_data"
    }
   ],
   "source": [
    "sns.catplot(x = 'Pclass', y = 'Fare', data = data_train[data_train['Fare'] < 300], kind = 'box', height = 5, palette='husl')"
   ]
  },
  {
   "cell_type": "markdown",
   "id": "0d12f0b3",
   "metadata": {
    "id": "rural-occupation"
   },
   "source": [
    "Краткий анализ количественных данных: \n",
    "1. Age - данные распределены нормально (среднее значение примерно равно 50% процентилю)\n",
    "2. Fare (цена билета) - при среднем 32, на 50 процентиле находится значение 14, что свидетельствует о сдвиге вправо. Судя по графику, цена на билеты в 1 класс в среднем выше (84.1) цены на другие классы (2-ой - 20.66 и 3-ий - 13.67)."
   ]
  },
  {
   "cell_type": "markdown",
   "id": "024218cf",
   "metadata": {
    "id": "guided-camcorder"
   },
   "source": [
    "### Кто находился на корабле"
   ]
  },
  {
   "cell_type": "code",
   "execution_count": 10,
   "id": "0190ca54",
   "metadata": {
    "colab": {
     "base_uri": "https://localhost:8080/"
    },
    "id": "insured-macintosh",
    "outputId": "c40558ee-d9c5-4087-8f41-8309bf23fff3"
   },
   "outputs": [
    {
     "data": {
      "text/plain": [
       "3    491\n",
       "1    216\n",
       "2    184\n",
       "Name: Pclass, dtype: int64"
      ]
     },
     "execution_count": 10,
     "metadata": {},
     "output_type": "execute_result"
    }
   ],
   "source": [
    "data_train.Pclass.value_counts() # в абсолютной величине"
   ]
  },
  {
   "cell_type": "code",
   "execution_count": 11,
   "id": "787744fe",
   "metadata": {
    "colab": {
     "base_uri": "https://localhost:8080/",
     "height": 383
    },
    "id": "7OeLRBiRKZTt",
    "outputId": "dfb83c7f-5aba-4359-89a5-2c589cf23952"
   },
   "outputs": [
    {
     "data": {
      "image/png": "[encoded data removed]",
      "text/plain": [
       "<Figure size 360x360 with 1 Axes>"
      ]
     },
     "metadata": {
      "needs_background": "light"
     },
     "output_type": "display_data"
    }
   ],
   "source": [
    "g = sns.catplot(data = data_train, kind = 'count', x='Pclass', palette = 'Set2')\n",
    "plot_values(g, scales=(0.08,2.5)) # в абсолютной величине"
   ]
  },
  {
   "cell_type": "code",
   "execution_count": 10,
   "id": "beda0771",
   "metadata": {
    "colab": {
     "base_uri": "https://localhost:8080/"
    },
    "id": "sublime-archive",
    "outputId": "046f9353-9bd9-4f3b-c962-26c3f8ee18ea",
    "scrolled": false
   },
   "outputs": [
    {
     "data": {
      "text/plain": [
       "3    0.551066\n",
       "1    0.242424\n",
       "2    0.206510\n",
       "Name: Pclass, dtype: float64"
      ]
     },
     "execution_count": 10,
     "metadata": {},
     "output_type": "execute_result"
    }
   ],
   "source": [
    "data_train.Pclass.value_counts(normalize = True) "
   ]
  },
  {
   "cell_type": "code",
   "execution_count": 11,
   "id": "b2450003",
   "metadata": {
    "colab": {
     "base_uri": "https://localhost:8080/",
     "height": 387
    },
    "id": "-_laQe8mDULj",
    "outputId": "07101767-1ff9-4692-ae54-7022c628bba1"
   },
   "outputs": [
    {
     "data": {
      "image/png": "[encoded data removed]",
      "text/plain": [
       "<Figure size 360x360 with 1 Axes>"
      ]
     },
     "metadata": {
      "needs_background": "light"
     },
     "output_type": "display_data"
    }
   ],
   "source": [
    "df = data_train.Pclass.value_counts(normalize = True).mul(100).rename('percent').reset_index()\n",
    "df.columns = ['Pclass', 'Passengers']\n",
    "\n",
    "g = sns.catplot(data = df, x = 'Pclass', y = 'Passengers', kind = 'bar', palette='Paired')\n",
    "g.ax.set_ylim(0,100)\n",
    "utils.plot_values(g, frequency=True)"
   ]
  },
  {
   "cell_type": "markdown",
   "id": "595e7cd1",
   "metadata": {
    "id": "BSfYY4Brr0AA"
   },
   "source": [
    "Больше всего пассажиров было в 3 классе"
   ]
  },
  {
   "cell_type": "code",
   "execution_count": 12,
   "id": "28a0b792",
   "metadata": {
    "colab": {
     "base_uri": "https://localhost:8080/"
    },
    "id": "going-making",
    "outputId": "f7bc951b-0e3a-4018-c05c-ed17329b07d0",
    "scrolled": true
   },
   "outputs": [
    {
     "data": {
      "text/plain": [
       "male      0.647587\n",
       "female    0.352413\n",
       "Name: Sex, dtype: float64"
      ]
     },
     "execution_count": 12,
     "metadata": {},
     "output_type": "execute_result"
    }
   ],
   "source": [
    "data_train.Sex.value_counts(normalize = True) "
   ]
  },
  {
   "cell_type": "code",
   "execution_count": 13,
   "id": "5b726bb0",
   "metadata": {
    "colab": {
     "base_uri": "https://localhost:8080/",
     "height": 387
    },
    "id": "Cw48TOuErfJp",
    "outputId": "bfaa3d6b-8c2b-4cc6-afa3-281cff6ed58f"
   },
   "outputs": [
    {
     "data": {
      "image/png": "[encoded data removed]",
      "text/plain": [
       "<Figure size 360x360 with 1 Axes>"
      ]
     },
     "metadata": {
      "needs_background": "light"
     },
     "output_type": "display_data"
    }
   ],
   "source": [
    "df = data_train.Sex.value_counts(normalize = True).mul(100).rename('percent').reset_index()\n",
    "df.columns = ['Sex', 'Passengers']\n",
    "\n",
    "g = sns.catplot(data = df, x = 'Sex', y = 'Passengers', kind = 'bar', palette='Paired')\n",
    "g.ax.set_ylim(0,100)\n",
    "utils.plot_values(g, frequency=True, scales=(0.15,2))"
   ]
  },
  {
   "cell_type": "markdown",
   "id": "bf510027",
   "metadata": {
    "id": "X8GD9WfosBTY"
   },
   "source": [
    "Среди всех пассажиров на корабле находилось больше мужчин. Проверим по классам"
   ]
  },
  {
   "cell_type": "code",
   "execution_count": 14,
   "id": "a1df04d3",
   "metadata": {
    "colab": {
     "base_uri": "https://localhost:8080/"
    },
    "id": "announced-flashing",
    "outputId": "5d08f54b-2292-428a-f56c-915fe2dff8b5",
    "scrolled": true
   },
   "outputs": [
    {
     "data": {
      "text/plain": [
       "Pclass  Sex   \n",
       "1       male      0.564815\n",
       "        female    0.435185\n",
       "2       male      0.586957\n",
       "        female    0.413043\n",
       "3       male      0.706721\n",
       "        female    0.293279\n",
       "Name: Sex, dtype: float64"
      ]
     },
     "execution_count": 14,
     "metadata": {},
     "output_type": "execute_result"
    }
   ],
   "source": [
    "data_train.groupby(['Pclass']).Sex.value_counts(normalize = True) "
   ]
  },
  {
   "cell_type": "code",
   "execution_count": 15,
   "id": "8b900f7d",
   "metadata": {
    "colab": {
     "base_uri": "https://localhost:8080/",
     "height": 387
    },
    "id": "HVMasHxCqkTE",
    "outputId": "46131a9e-4836-4abc-a118-098d4173334f"
   },
   "outputs": [
    {
     "data": {
      "image/png": "[encoded data removed]",
      "text/plain": [
       "<Figure size 430.5x360 with 1 Axes>"
      ]
     },
     "metadata": {
      "needs_background": "light"
     },
     "output_type": "display_data"
    }
   ],
   "source": [
    "df = data_train.groupby(['Pclass'])['Sex'].value_counts(normalize = True).mul(100).rename('percent').reset_index()\n",
    "df.columns = ['Pclass', 'Sex', 'Passengers']\n",
    "\n",
    "g = sns.catplot(data = df, x = 'Pclass', y = 'Passengers', hue = 'Sex', kind = 'bar', palette='Paired')\n",
    "g.ax.set_ylim(0,100)\n",
    "utils.plot_values(g, frequency=True, scales=(-0.2,2))"
   ]
  },
  {
   "cell_type": "markdown",
   "id": "1ddf9550",
   "metadata": {
    "id": "directed-flashing"
   },
   "source": [
    "1. Больше всего пассажиров было в 3 классе. При этом разница между количеством пассажиров между 1 и 2 классом небольшая.\n",
    "2. Большая часть пассажиров на корабле - мужчины\n",
    "3. Во всех классах мужчин было больше. В 1 и 2 классах разница небольшая (было больше пар), в 3 - мужчин намного больше (может быть связано с тем, что в 3-м классе было больше семей, где дети - мальчики)"
   ]
  },
  {
   "cell_type": "code",
   "execution_count": 16,
   "id": "8aa5ec80",
   "metadata": {
    "colab": {
     "base_uri": "https://localhost:8080/"
    },
    "id": "indonesian-customer",
    "outputId": "d2ea5f2d-0b37-459d-b3c5-5b3bbb32e010",
    "scrolled": true
   },
   "outputs": [
    {
     "data": {
      "text/plain": [
       "Pclass  Sex   \n",
       "1       female    34.611765\n",
       "        male      41.281386\n",
       "2       female    28.722973\n",
       "        male      30.740707\n",
       "3       female    21.750000\n",
       "        male      26.507589\n",
       "Name: Age, dtype: float64"
      ]
     },
     "execution_count": 16,
     "metadata": {},
     "output_type": "execute_result"
    }
   ],
   "source": [
    "data_train.groupby(['Pclass','Sex']).Age.mean()"
   ]
  },
  {
   "cell_type": "code",
   "execution_count": 17,
   "id": "656bfe6a",
   "metadata": {
    "colab": {
     "base_uri": "https://localhost:8080/",
     "height": 387
    },
    "id": "H7TZwPk7tzC6",
    "outputId": "97f85629-7cff-439c-f9e0-be355cb79f92"
   },
   "outputs": [
    {
     "data": {
      "image/png": "[encoded data removed]",
      "text/plain": [
       "<Figure size 430.5x360 with 1 Axes>"
      ]
     },
     "metadata": {
      "needs_background": "light"
     },
     "output_type": "display_data"
    }
   ],
   "source": [
    "df = data_train.groupby(['Pclass','Sex']).Age.mean().reset_index()\n",
    "g = sns.catplot(data = df, x = 'Pclass', y = 'Age', hue = 'Sex', kind = 'bar', palette='Paired')\n",
    "g.ax.set_ylim(0,100)\n",
    "utils.plot_values(g, frequency=False,scales=(-0.2,1))"
   ]
  },
  {
   "cell_type": "markdown",
   "id": "f1dd7b22",
   "metadata": {
    "id": "authentic-april"
   },
   "source": [
    "1. Средний возраст увеличивается по мере увеличения класса. Скорей всего потому что люди в среднем богаче когда старше, а у молодежи денег немного\n",
    "2. В первом классе возраст мужчин был намного больше возраста женщин (в 3-м чуть поменьше разница). Во 2-ом - примерно одинаковая. Можно сделать вывод что взрослые мужчины с деньгами (потому что билеты в 1 класс стоят дороже) предпочитают женщин помоложе"
   ]
  },
  {
   "cell_type": "markdown",
   "id": "130fede4",
   "metadata": {
    "id": "cross-machinery"
   },
   "source": [
    "Сколько родных людей путешествовало вместе с пассажиром в зависимости от класса"
   ]
  },
  {
   "cell_type": "code",
   "execution_count": 18,
   "id": "a48f13db",
   "metadata": {
    "colab": {
     "base_uri": "https://localhost:8080/"
    },
    "id": "polished-liverpool",
    "outputId": "ba5eefda-b0ce-4adb-85ea-e9f6fff93278"
   },
   "outputs": [
    {
     "data": {
      "text/plain": [
       "Pclass  SibSp\n",
       "1       0        0.634259\n",
       "        1        0.328704\n",
       "        2        0.023148\n",
       "        3        0.013889\n",
       "2       0        0.652174\n",
       "        1        0.298913\n",
       "        2        0.043478\n",
       "        3        0.005435\n",
       "3       0        0.714868\n",
       "        1        0.169043\n",
       "        4        0.036660\n",
       "        2        0.030550\n",
       "        3        0.024440\n",
       "        8        0.014257\n",
       "        5        0.010183\n",
       "Name: SibSp, dtype: float64"
      ]
     },
     "execution_count": 18,
     "metadata": {},
     "output_type": "execute_result"
    }
   ],
   "source": [
    "data_train.groupby(['Pclass']).SibSp.value_counts(normalize = True) # количество родных"
   ]
  },
  {
   "cell_type": "code",
   "execution_count": 19,
   "id": "b8d4be56",
   "metadata": {
    "colab": {
     "base_uri": "https://localhost:8080/",
     "height": 401
    },
    "id": "BAWTVONYv_LK",
    "outputId": "4a668cf9-81e8-49c0-b741-9168953e3258"
   },
   "outputs": [
    {
     "data": {
      "text/plain": [
       "<seaborn.axisgrid.FacetGrid at 0x130a79cda88>"
      ]
     },
     "execution_count": 19,
     "metadata": {},
     "output_type": "execute_result"
    },
    {
     "data": {
      "image/png": "[encoded data removed]",
      "text/plain": [
       "<Figure size 1080x360 with 3 Axes>"
      ]
     },
     "metadata": {
      "needs_background": "light"
     },
     "output_type": "display_data"
    }
   ],
   "source": [
    "sns.catplot(col = 'Pclass', x='SibSp', kind='count', data=data_train, palette = sns.color_palette(\"Set2\", 8))"
   ]
  },
  {
   "cell_type": "markdown",
   "id": "310ed28f",
   "metadata": {
    "id": "HFzbjTuHGKge"
   },
   "source": [
    "Посмотрим на данные, где родственников больше 0 (SibSp > 0)"
   ]
  },
  {
   "cell_type": "code",
   "execution_count": 20,
   "id": "fbdbcc19",
   "metadata": {
    "colab": {
     "base_uri": "https://localhost:8080/",
     "height": 401
    },
    "id": "zGhDiMcpHHya",
    "outputId": "f9fde946-f9e1-4a18-9550-de32e6361627"
   },
   "outputs": [
    {
     "data": {
      "text/plain": [
       "<seaborn.axisgrid.FacetGrid at 0x130a773e748>"
      ]
     },
     "execution_count": 20,
     "metadata": {},
     "output_type": "execute_result"
    },
    {
     "data": {
      "image/png": "[encoded data removed]",
      "text/plain": [
       "<Figure size 1080x360 with 3 Axes>"
      ]
     },
     "metadata": {
      "needs_background": "light"
     },
     "output_type": "display_data"
    }
   ],
   "source": [
    "sns.catplot(col = 'Pclass', x='SibSp', kind='count', data=data_train[data_train['SibSp'] > 0], palette = sns.color_palette(\"Set2\", 8)[1:])"
   ]
  },
  {
   "cell_type": "markdown",
   "id": "2a0afb28",
   "metadata": {
    "id": "5cxuzLR4a3oC"
   },
   "source": [
    "Из графика можно сделать вывод что в 1 и 2 классе количество больших семей (больше 3х людей) равно нулю и в сравнении с 3 классом, в 1 и 2 классах гараздо меньше семей в целом"
   ]
  },
  {
   "cell_type": "code",
   "execution_count": 21,
   "id": "618f6de4",
   "metadata": {
    "colab": {
     "base_uri": "https://localhost:8080/",
     "height": 401
    },
    "id": "igIviKgNXagu",
    "outputId": "7c128d83-ecec-457f-dbe2-fb5c1e7cac49"
   },
   "outputs": [
    {
     "data": {
      "text/plain": [
       "<seaborn.axisgrid.FacetGrid at 0x130a7a9e848>"
      ]
     },
     "execution_count": 21,
     "metadata": {},
     "output_type": "execute_result"
    },
    {
     "data": {
      "image/png": "[encoded data removed]",
      "text/plain": [
       "<Figure size 1150.5x360 with 3 Axes>"
      ]
     },
     "metadata": {
      "needs_background": "light"
     },
     "output_type": "display_data"
    }
   ],
   "source": [
    "sns.catplot(col = 'Pclass', x='SibSp', kind='count', data=data_train, hue = 'Sex', palette = 'Set2')"
   ]
  },
  {
   "cell_type": "markdown",
   "id": "3be235f6",
   "metadata": {
    "id": "PnqKT1RLZpfN"
   },
   "source": [
    "Судя по графику, можно сделать вывод что вне зависимости от класса, больше всего людей без родственников были мужчинами. То что во 2-м классе равное количество людей было с 1 родственником подтверждает теорию о том что там было больше пар"
   ]
  },
  {
   "cell_type": "code",
   "execution_count": 22,
   "id": "b577bee1",
   "metadata": {
    "colab": {
     "base_uri": "https://localhost:8080/",
     "height": 387
    },
    "id": "wkcpMiHxUDzm",
    "outputId": "7e689b27-c57a-45cb-e104-4adde3f1ff3a"
   },
   "outputs": [
    {
     "data": {
      "image/png": "[encoded data removed]",
      "text/plain": [
       "<Figure size 360x360 with 1 Axes>"
      ]
     },
     "metadata": {
      "needs_background": "light"
     },
     "output_type": "display_data"
    }
   ],
   "source": [
    "df = pd.DataFrame({'SibSp':['0','1','>2'], 'Passengers':[(data_train[data_train['SibSp'] == 0].PassengerId.count() / data_train.shape[0]), \n",
    "                                                    (data_train[data_train['SibSp'] == 1].PassengerId.count() / data_train.shape[0]),\n",
    "                                                    (data_train[data_train['SibSp'] > 1].PassengerId.count() / data_train.shape[0]) ] } )\n",
    "df['Passengers']= df['Passengers'] * 100\n",
    "\n",
    "g = sns.catplot(x='SibSp', kind = 'bar', y='Passengers', data = df, palette='Paired')\n",
    "g.ax.set_ylim(0,100)\n",
    "utils.plot_values(g, frequency=True)"
   ]
  },
  {
   "cell_type": "code",
   "execution_count": 23,
   "id": "3b068b03",
   "metadata": {
    "id": "2XlGQnCGa5Ik"
   },
   "outputs": [],
   "source": [
    "df_1 = pd.DataFrame({'SibSp':[0,0],'Survived':[0,1], 'Passengers':(data_train[data_train['SibSp'] == 0].groupby('Survived').SibSp.count() \n",
    "                                                            / data_train[data_train['SibSp'] == 0].PassengerId.count())*100})\n",
    "df_1.reset_index(drop = True, inplace = True)\n",
    "\n",
    "df_2 = pd.DataFrame({'SibSp':[1,1],'Survived':[0,1], 'Passengers':(data_train[data_train['SibSp'] == 1].groupby('Survived').SibSp.count() \n",
    "                                                            / data_train[data_train['SibSp'] == 1].PassengerId.count())*100})\n",
    "df_2.reset_index(drop = True, inplace = True)\n",
    "\n",
    "df_3 = pd.DataFrame({'SibSp':['>1','>1'],'Survived':[0,1], 'Passengers':(data_train[data_train['SibSp'] >= 1].groupby('Survived').SibSp.count() \n",
    "                                                            / data_train[data_train['SibSp'] >= 1].PassengerId.count())*100})\n",
    "df_3.reset_index(drop = True, inplace = True)\n",
    "df_2 = df_1.append(df_2)\n",
    "df_3 = df_2.append(df_3)"
   ]
  },
  {
   "cell_type": "code",
   "execution_count": 24,
   "id": "06f25413",
   "metadata": {
    "colab": {
     "base_uri": "https://localhost:8080/",
     "height": 387
    },
    "id": "TXLpypZFbJaR",
    "outputId": "ac84ad10-4df5-437e-ae8d-86c3d1cda2be"
   },
   "outputs": [
    {
     "data": {
      "image/png": "[encoded data removed]",
      "text/plain": [
       "<Figure size 411.875x360 with 1 Axes>"
      ]
     },
     "metadata": {
      "needs_background": "light"
     },
     "output_type": "display_data"
    }
   ],
   "source": [
    "g = sns.catplot(data = df_3, y = 'Passengers', x = 'SibSp', hue = 'Survived', kind='bar', palette = 'Paired')\n",
    "g.ax.set_ylim(0,100)\n",
    "utils.plot_values(g, frequency=True, scales=(-0.2,2))"
   ]
  },
  {
   "cell_type": "markdown",
   "id": "d9ae497a",
   "metadata": {
    "id": "VxicU_Q3W_dZ"
   },
   "source": [
    "1. Больше всего людей на корабле было без супругов/братьев/сестер\n",
    "2. Самые большие шансы на выживание у тех, у кого есть 1 родственник (или супруг, или брат/сестра)"
   ]
  },
  {
   "cell_type": "code",
   "execution_count": 25,
   "id": "2e7362e9",
   "metadata": {
    "colab": {
     "base_uri": "https://localhost:8080/"
    },
    "id": "vietnamese-parts",
    "outputId": "711ca537-db83-4675-be30-4272ae4504b4"
   },
   "outputs": [
    {
     "data": {
      "text/plain": [
       "Pclass  Parch\n",
       "1       0        0.754630\n",
       "        1        0.143519\n",
       "        2        0.097222\n",
       "        4        0.004630\n",
       "2       0        0.728261\n",
       "        1        0.173913\n",
       "        2        0.086957\n",
       "        3        0.010870\n",
       "3       0        0.775967\n",
       "        1        0.112016\n",
       "        2        0.087576\n",
       "        5        0.010183\n",
       "        3        0.006110\n",
       "        4        0.006110\n",
       "        6        0.002037\n",
       "Name: Parch, dtype: float64"
      ]
     },
     "execution_count": 25,
     "metadata": {},
     "output_type": "execute_result"
    }
   ],
   "source": [
    "data_train.groupby(['Pclass']).Parch.value_counts(normalize = True) # количество пассажиров с родителелями/детьми"
   ]
  },
  {
   "cell_type": "code",
   "execution_count": 26,
   "id": "b09990aa",
   "metadata": {
    "colab": {
     "base_uri": "https://localhost:8080/",
     "height": 401
    },
    "id": "yPrEVmxYw_G8",
    "outputId": "19bb26b9-c55b-4cec-8f76-a29e268f76b4"
   },
   "outputs": [
    {
     "data": {
      "text/plain": [
       "<seaborn.axisgrid.FacetGrid at 0x130a7df4248>"
      ]
     },
     "execution_count": 26,
     "metadata": {},
     "output_type": "execute_result"
    },
    {
     "data": {
      "image/png": "[encoded data removed]",
      "text/plain": [
       "<Figure size 1080x360 with 3 Axes>"
      ]
     },
     "metadata": {
      "needs_background": "light"
     },
     "output_type": "display_data"
    }
   ],
   "source": [
    "sns.catplot(col= 'Pclass', x='Parch', kind='count', data=data_train, palette='Set2')"
   ]
  },
  {
   "cell_type": "markdown",
   "id": "a1b8b9c6",
   "metadata": {
    "id": "X8gbsDLJJ6B0"
   },
   "source": [
    "Уберем тех кто был без детей/супругов и посмотрим на график"
   ]
  },
  {
   "cell_type": "code",
   "execution_count": 27,
   "id": "5d8a94ff",
   "metadata": {
    "colab": {
     "base_uri": "https://localhost:8080/",
     "height": 401
    },
    "id": "bYBYCHbMJxDI",
    "outputId": "93954b76-bc38-4832-8ecd-66b4aebdf202"
   },
   "outputs": [
    {
     "data": {
      "text/plain": [
       "<seaborn.axisgrid.FacetGrid at 0x130a81cd808>"
      ]
     },
     "execution_count": 27,
     "metadata": {},
     "output_type": "execute_result"
    },
    {
     "data": {
      "image/png": "[encoded data removed]",
      "text/plain": [
       "<Figure size 1080x360 with 3 Axes>"
      ]
     },
     "metadata": {
      "needs_background": "light"
     },
     "output_type": "display_data"
    }
   ],
   "source": [
    "sns.catplot(col= 'Pclass', x='Parch', kind='count', data=data_train[data_train['Parch'] > 0], palette = sns.color_palette(\"Set2\", 8)[1:])"
   ]
  },
  {
   "cell_type": "markdown",
   "id": "936b0795",
   "metadata": {
    "id": "short-montana"
   },
   "source": [
    "По графикам видно, что больше всего пассажиров которые были с родителями/детьми находились в 3 классе. Скорей всего из-за дешевых билетов. Можно было купить билеты на всю семью за относительно не дорогую стоимость"
   ]
  },
  {
   "cell_type": "code",
   "execution_count": 28,
   "id": "9ffaef4a",
   "metadata": {
    "colab": {
     "base_uri": "https://localhost:8080/",
     "height": 387
    },
    "id": "6fJDELdBi0Cu",
    "outputId": "a12145ff-85c1-480a-f948-c24ebe520f6e"
   },
   "outputs": [
    {
     "data": {
      "image/png": "[encoded data removed]",
      "text/plain": [
       "<Figure size 360x360 with 1 Axes>"
      ]
     },
     "metadata": {
      "needs_background": "light"
     },
     "output_type": "display_data"
    }
   ],
   "source": [
    "df = pd.DataFrame({'Parch':['0','1','>2'], 'Passengers':[(data_train[data_train['Parch'] == 0].PassengerId.count() / data_train.shape[0]), \n",
    "                                                    (data_train[data_train['Parch'] == 1].PassengerId.count() / data_train.shape[0]),\n",
    "                                                    (data_train[data_train['Parch'] > 1].PassengerId.count() / data_train.shape[0]) ] } )\n",
    "df['Passengers']= df['Passengers'] * 100\n",
    "\n",
    "g = sns.catplot(x='Parch', kind = 'bar', y='Passengers', data = df, palette='Paired')\n",
    "g.ax.set_ylim(0,100)\n",
    "utils.plot_values(g, frequency=True)"
   ]
  },
  {
   "cell_type": "code",
   "execution_count": 29,
   "id": "0cb4d77c",
   "metadata": {
    "id": "jRFk3RMtjEIf"
   },
   "outputs": [],
   "source": [
    "df_1 = pd.DataFrame({'Parch':[0,0],'Survived':[0,1], 'Passengers':(data_train[data_train['Parch'] == 0].groupby('Survived').SibSp.count() \n",
    "                                                            / data_train[data_train['Parch'] == 0].PassengerId.count())*100})\n",
    "df_1.reset_index(drop = True, inplace = True)\n",
    "\n",
    "df_2 = pd.DataFrame({'Parch':[1,1],'Survived':[0,1], 'Passengers':(data_train[data_train['Parch'] == 1].groupby('Survived').SibSp.count() \n",
    "                                                            / data_train[data_train['Parch'] == 1].PassengerId.count())*100})\n",
    "df_2.reset_index(drop = True, inplace = True)\n",
    "\n",
    "df_3 = pd.DataFrame({'Parch':['>1','>1'],'Survived':[0,1], 'Passengers':(data_train[data_train['Parch'] >= 1].groupby('Survived').SibSp.count() \n",
    "                                                            / data_train[data_train['Parch'] >= 1].PassengerId.count())*100})\n",
    "df_3.reset_index(drop = True, inplace = True)\n",
    "df_2 = df_1.append(df_2)\n",
    "df_3 = df_2.append(df_3)"
   ]
  },
  {
   "cell_type": "code",
   "execution_count": 30,
   "id": "80cbc0b4",
   "metadata": {
    "colab": {
     "base_uri": "https://localhost:8080/",
     "height": 387
    },
    "id": "Suczi3r4jED-",
    "outputId": "d3778696-5358-4e53-c4c8-0fcc3d31b231"
   },
   "outputs": [
    {
     "data": {
      "image/png": "[encoded data removed]",
      "text/plain": [
       "<Figure size 411.875x360 with 1 Axes>"
      ]
     },
     "metadata": {
      "needs_background": "light"
     },
     "output_type": "display_data"
    }
   ],
   "source": [
    "g = sns.catplot(data = df_3, y = 'Passengers', x = 'Parch', hue = 'Survived', kind='bar', palette = 'Paired')\n",
    "g.ax.set_ylim(0,100)\n",
    "utils.plot_values(g, frequency=True, scales=(-0.2,2))"
   ]
  },
  {
   "cell_type": "markdown",
   "id": "0f936977",
   "metadata": {
    "id": "dW9stjwGjwcx"
   },
   "source": [
    "1. Больше всего людей на корабле находилось без детей/родителей\n",
    "2. Но статистически те кто были с родителями/детьми выживали чаще"
   ]
  },
  {
   "cell_type": "markdown",
   "id": "9cb2879f",
   "metadata": {
    "id": "vulnerable-projector"
   },
   "source": [
    "### Аналитика по выжившим/погибшим"
   ]
  },
  {
   "cell_type": "markdown",
   "id": "948396cc",
   "metadata": {
    "id": "diverse-therapist"
   },
   "source": [
    "#### Сколько людей выжило?"
   ]
  },
  {
   "cell_type": "code",
   "execution_count": 31,
   "id": "ad1b2e3f",
   "metadata": {
    "colab": {
     "base_uri": "https://localhost:8080/"
    },
    "id": "rough-negotiation",
    "outputId": "c453b898-e5ac-40fe-e0c2-2bbb607be41e"
   },
   "outputs": [
    {
     "data": {
      "text/plain": [
       "0    0.616162\n",
       "1    0.383838\n",
       "Name: Survived, dtype: float64"
      ]
     },
     "execution_count": 31,
     "metadata": {},
     "output_type": "execute_result"
    }
   ],
   "source": [
    "data_train.Survived.value_counts(normalize = True)"
   ]
  },
  {
   "cell_type": "code",
   "execution_count": 32,
   "id": "e03961c8",
   "metadata": {
    "colab": {
     "base_uri": "https://localhost:8080/",
     "height": 387
    },
    "id": "typical-queensland",
    "outputId": "14fc44d0-35ef-41b6-fa01-8b1f90282279",
    "scrolled": false
   },
   "outputs": [
    {
     "data": {
      "image/png": "[encoded data removed]",
      "text/plain": [
       "<Figure size 360x360 with 1 Axes>"
      ]
     },
     "metadata": {
      "needs_background": "light"
     },
     "output_type": "display_data"
    }
   ],
   "source": [
    "df = data_train.Survived.value_counts(normalize = True).mul(100).rename('percent').reset_index()\n",
    "df.columns = ['Survived', 'Passengers']\n",
    "\n",
    "g = sns.catplot(data = df, x = 'Survived', y = 'Passengers', kind = 'bar', palette='Paired')\n",
    "g.ax.set_ylim(0,100)\n",
    "utils.plot_values(g, frequency=True, scales=(0.1,2))"
   ]
  },
  {
   "cell_type": "markdown",
   "id": "b7a63e58",
   "metadata": {
    "id": "pretty-drunk"
   },
   "source": [
    "61% людей погиб, а 38% выжило"
   ]
  },
  {
   "cell_type": "code",
   "execution_count": 33,
   "id": "02b4828d",
   "metadata": {
    "colab": {
     "base_uri": "https://localhost:8080/"
    },
    "id": "bound-patrick",
    "outputId": "58f34525-835a-4938-d39a-c341ee094b75",
    "scrolled": true
   },
   "outputs": [
    {
     "data": {
      "text/plain": [
       "Pclass  Survived\n",
       "1       1           0.629630\n",
       "        0           0.370370\n",
       "2       0           0.527174\n",
       "        1           0.472826\n",
       "3       0           0.757637\n",
       "        1           0.242363\n",
       "Name: Survived, dtype: float64"
      ]
     },
     "execution_count": 33,
     "metadata": {},
     "output_type": "execute_result"
    }
   ],
   "source": [
    "data_train.groupby(['Pclass']).Survived.value_counts(normalize = True)"
   ]
  },
  {
   "cell_type": "code",
   "execution_count": 34,
   "id": "fae28626",
   "metadata": {
    "colab": {
     "base_uri": "https://localhost:8080/",
     "height": 387
    },
    "id": "w_Y6g-hszj1R",
    "outputId": "691bb02c-487a-4826-c6ce-f3f94d54c3d3"
   },
   "outputs": [
    {
     "data": {
      "image/png": "[encoded data removed]",
      "text/plain": [
       "<Figure size 411.875x360 with 1 Axes>"
      ]
     },
     "metadata": {
      "needs_background": "light"
     },
     "output_type": "display_data"
    }
   ],
   "source": [
    "df = data_train.groupby(['Pclass'])['Survived'].value_counts(normalize = True).mul(100).rename('percent').reset_index()\n",
    "df.columns = ['Pclass', 'Survived', 'Passengers']\n",
    "\n",
    "g = sns.catplot(data = df, x = 'Pclass', y = 'Passengers', hue = 'Survived', kind = 'bar', palette='Paired')\n",
    "g.ax.set_ylim(0,100)\n",
    "utils.plot_values(g, frequency=True, scales=(-0.2,2))"
   ]
  },
  {
   "cell_type": "markdown",
   "id": "c9a5e5c1",
   "metadata": {
    "id": "fVcPXk7R1KKT"
   },
   "source": [
    "Самый большой шанс выжить - в 1-ом классе, во втором почти 50-50, в то время как в 3-ем классе выживал примерно каждый четвертый"
   ]
  },
  {
   "cell_type": "code",
   "execution_count": 35,
   "id": "206c24a2",
   "metadata": {
    "colab": {
     "base_uri": "https://localhost:8080/",
     "height": 428
    },
    "id": "9Qm1n1ok6aWi",
    "outputId": "d722a74a-c7b6-4649-cf3c-e9986e7fb88b"
   },
   "outputs": [
    {
     "data": {
      "image/png": "[encoded data removed]",
      "text/plain": [
       "<Figure size 1152x504 with 2 Axes>"
      ]
     },
     "metadata": {},
     "output_type": "display_data"
    }
   ],
   "source": [
    "f,ax=plt.subplots(1,2,figsize=(16,7))\n",
    "colr= {1:'blue',0:'red'}\n",
    "data_train['Survived'][data_train['Sex']=='male'].value_counts(normalize = True, ascending = True).plot.pie(explode=[0,0.1],autopct='%1.1f%%',ax=ax[0],shadow=True)\n",
    "data_train['Survived'][data_train['Sex']=='female'].value_counts(normalize = True).plot.pie(explode=[0,0.1],autopct='%1.1f%%',ax=ax[1],shadow=True)\n",
    "ax[0].set_title('Survived (male)', fontsize = 14)\n",
    "ax[1].set_title('Survived (female)', fontsize = 14)\n",
    "\n",
    "plt.show()"
   ]
  },
  {
   "cell_type": "markdown",
   "id": "23b60102",
   "metadata": {
    "id": "compact-region"
   },
   "source": [
    "Как видно из графика, примерно каждая 4 женщина погибала, в то время как у мужчина ситуация зеркальная: выживал каждый 4 мужчина"
   ]
  },
  {
   "cell_type": "code",
   "execution_count": 36,
   "id": "937b5826",
   "metadata": {
    "colab": {
     "base_uri": "https://localhost:8080/",
     "height": 164
    },
    "id": "native-confirmation",
    "outputId": "90282fc1-c9b6-4895-edd1-6c75be34b6d2",
    "scrolled": false
   },
   "outputs": [
    {
     "data": {
      "text/html": [
       "<style  type=\"text/css\" >\n",
       "#T_6fa23_row0_col0,#T_6fa23_row0_col1,#T_6fa23_row0_col3,#T_6fa23_row3_col2{\n",
       "            background-color:  #ffff00;\n",
       "            color:  #000000;\n",
       "        }#T_6fa23_row0_col2,#T_6fa23_row1_col2{\n",
       "            background-color:  #fff100;\n",
       "            color:  #000000;\n",
       "        }#T_6fa23_row1_col0{\n",
       "            background-color:  #ff9600;\n",
       "            color:  #000000;\n",
       "        }#T_6fa23_row1_col1{\n",
       "            background-color:  #ffa300;\n",
       "            color:  #000000;\n",
       "        }#T_6fa23_row1_col3{\n",
       "            background-color:  #ffcf00;\n",
       "            color:  #000000;\n",
       "        }#T_6fa23_row2_col0{\n",
       "            background-color:  #ffa700;\n",
       "            color:  #000000;\n",
       "        }#T_6fa23_row2_col1,#T_6fa23_row2_col3{\n",
       "            background-color:  #ff8500;\n",
       "            color:  #000000;\n",
       "        }#T_6fa23_row2_col2{\n",
       "            background-color:  #ff6e00;\n",
       "            color:  #000000;\n",
       "        }#T_6fa23_row3_col0{\n",
       "            background-color:  #ffcd00;\n",
       "            color:  #000000;\n",
       "        }#T_6fa23_row3_col1{\n",
       "            background-color:  #fff000;\n",
       "            color:  #000000;\n",
       "        }#T_6fa23_row3_col3{\n",
       "            background-color:  #fff700;\n",
       "            color:  #000000;\n",
       "        }#T_6fa23_row4_col0,#T_6fa23_row4_col1,#T_6fa23_row4_col2,#T_6fa23_row4_col3{\n",
       "            background-color:  #ff0000;\n",
       "            color:  #f1f1f1;\n",
       "        }</style><table id=\"T_6fa23_\" ><thead>    <tr>        <th class=\"blank\" ></th>        <th class=\"index_name level0\" >Pclass</th>        <th class=\"col_heading level0 col0\" >1</th>        <th class=\"col_heading level0 col1\" >2</th>        <th class=\"col_heading level0 col2\" >3</th>        <th class=\"col_heading level0 col3\" >All</th>    </tr>    <tr>        <th class=\"index_name level0\" >Sex</th>        <th class=\"index_name level1\" >Survived</th>        <th class=\"blank\" ></th>        <th class=\"blank\" ></th>        <th class=\"blank\" ></th>        <th class=\"blank\" ></th>    </tr></thead><tbody>\n",
       "                <tr>\n",
       "                        <th id=\"T_6fa23_level0_row0\" class=\"row_heading level0 row0\" rowspan=\"2\">female</th>\n",
       "                        <th id=\"T_6fa23_level1_row0\" class=\"row_heading level1 row0\" >0</th>\n",
       "                        <td id=\"T_6fa23_row0_col0\" class=\"data row0 col0\" >3</td>\n",
       "                        <td id=\"T_6fa23_row0_col1\" class=\"data row0 col1\" >6</td>\n",
       "                        <td id=\"T_6fa23_row0_col2\" class=\"data row0 col2\" >72</td>\n",
       "                        <td id=\"T_6fa23_row0_col3\" class=\"data row0 col3\" >81</td>\n",
       "            </tr>\n",
       "            <tr>\n",
       "                                <th id=\"T_6fa23_level1_row1\" class=\"row_heading level1 row1\" >1</th>\n",
       "                        <td id=\"T_6fa23_row1_col0\" class=\"data row1 col0\" >91</td>\n",
       "                        <td id=\"T_6fa23_row1_col1\" class=\"data row1 col1\" >70</td>\n",
       "                        <td id=\"T_6fa23_row1_col2\" class=\"data row1 col2\" >72</td>\n",
       "                        <td id=\"T_6fa23_row1_col3\" class=\"data row1 col3\" >233</td>\n",
       "            </tr>\n",
       "            <tr>\n",
       "                        <th id=\"T_6fa23_level0_row2\" class=\"row_heading level0 row2\" rowspan=\"2\">male</th>\n",
       "                        <th id=\"T_6fa23_level1_row2\" class=\"row_heading level1 row2\" >0</th>\n",
       "                        <td id=\"T_6fa23_row2_col0\" class=\"data row2 col0\" >77</td>\n",
       "                        <td id=\"T_6fa23_row2_col1\" class=\"data row2 col1\" >91</td>\n",
       "                        <td id=\"T_6fa23_row2_col2\" class=\"data row2 col2\" >300</td>\n",
       "                        <td id=\"T_6fa23_row2_col3\" class=\"data row2 col3\" >468</td>\n",
       "            </tr>\n",
       "            <tr>\n",
       "                                <th id=\"T_6fa23_level1_row3\" class=\"row_heading level1 row3\" >1</th>\n",
       "                        <td id=\"T_6fa23_row3_col0\" class=\"data row3 col0\" >45</td>\n",
       "                        <td id=\"T_6fa23_row3_col1\" class=\"data row3 col1\" >17</td>\n",
       "                        <td id=\"T_6fa23_row3_col2\" class=\"data row3 col2\" >47</td>\n",
       "                        <td id=\"T_6fa23_row3_col3\" class=\"data row3 col3\" >109</td>\n",
       "            </tr>\n",
       "            <tr>\n",
       "                        <th id=\"T_6fa23_level0_row4\" class=\"row_heading level0 row4\" >All</th>\n",
       "                        <th id=\"T_6fa23_level1_row4\" class=\"row_heading level1 row4\" ></th>\n",
       "                        <td id=\"T_6fa23_row4_col0\" class=\"data row4 col0\" >216</td>\n",
       "                        <td id=\"T_6fa23_row4_col1\" class=\"data row4 col1\" >184</td>\n",
       "                        <td id=\"T_6fa23_row4_col2\" class=\"data row4 col2\" >491</td>\n",
       "                        <td id=\"T_6fa23_row4_col3\" class=\"data row4 col3\" >891</td>\n",
       "            </tr>\n",
       "    </tbody></table>"
      ],
      "text/plain": [
       "<pandas.io.formats.style.Styler at 0x130a8872308>"
      ]
     },
     "execution_count": 36,
     "metadata": {},
     "output_type": "execute_result"
    }
   ],
   "source": [
    "pd.crosstab([data_train.Sex, data_train.Survived], data_train.Pclass, margins=True).style.background_gradient(cmap='autumn_r')"
   ]
  },
  {
   "cell_type": "markdown",
   "id": "d89be8a2",
   "metadata": {
    "id": "detected-victor"
   },
   "source": [
    "1. Больше всего выживших - это женщины из 1-го класса, меньше всего - мужчин из 3-го класса\n",
    "3. Интересно что в абсолютном значении количество выживших мужчин в 1 и 3 классе почти одинаковое"
   ]
  },
  {
   "cell_type": "code",
   "execution_count": 37,
   "id": "b01194f6",
   "metadata": {
    "colab": {
     "base_uri": "https://localhost:8080/",
     "height": 141
    },
    "id": "peripheral-district",
    "outputId": "1d995558-87f5-41ca-fca7-85b3570064f0"
   },
   "outputs": [
    {
     "data": {
      "text/html": [
       "<div>\n",
       "<style scoped>\n",
       "    .dataframe tbody tr th:only-of-type {\n",
       "        vertical-align: middle;\n",
       "    }\n",
       "\n",
       "    .dataframe tbody tr th {\n",
       "        vertical-align: top;\n",
       "    }\n",
       "\n",
       "    .dataframe thead th {\n",
       "        text-align: right;\n",
       "    }\n",
       "</style>\n",
       "<table border=\"1\" class=\"dataframe\">\n",
       "  <thead>\n",
       "    <tr style=\"text-align: right;\">\n",
       "      <th></th>\n",
       "      <th>PassengerId</th>\n",
       "      <th>Survived</th>\n",
       "      <th>Pclass</th>\n",
       "      <th>Name</th>\n",
       "      <th>Sex</th>\n",
       "      <th>Age</th>\n",
       "      <th>SibSp</th>\n",
       "      <th>Parch</th>\n",
       "      <th>Ticket</th>\n",
       "      <th>Fare</th>\n",
       "      <th>Cabin</th>\n",
       "      <th>Embarked</th>\n",
       "    </tr>\n",
       "  </thead>\n",
       "  <tbody>\n",
       "    <tr>\n",
       "      <th>177</th>\n",
       "      <td>178</td>\n",
       "      <td>0</td>\n",
       "      <td>1</td>\n",
       "      <td>Isham, Miss. Ann Elizabeth</td>\n",
       "      <td>female</td>\n",
       "      <td>50.0</td>\n",
       "      <td>0</td>\n",
       "      <td>0</td>\n",
       "      <td>PC 17595</td>\n",
       "      <td>28.7125</td>\n",
       "      <td>C49</td>\n",
       "      <td>C</td>\n",
       "    </tr>\n",
       "    <tr>\n",
       "      <th>297</th>\n",
       "      <td>298</td>\n",
       "      <td>0</td>\n",
       "      <td>1</td>\n",
       "      <td>Allison, Miss. Helen Loraine</td>\n",
       "      <td>female</td>\n",
       "      <td>2.0</td>\n",
       "      <td>1</td>\n",
       "      <td>2</td>\n",
       "      <td>113781</td>\n",
       "      <td>151.5500</td>\n",
       "      <td>C22 C26</td>\n",
       "      <td>S</td>\n",
       "    </tr>\n",
       "    <tr>\n",
       "      <th>498</th>\n",
       "      <td>499</td>\n",
       "      <td>0</td>\n",
       "      <td>1</td>\n",
       "      <td>Allison, Mrs. Hudson J C (Bessie Waldo Daniels)</td>\n",
       "      <td>female</td>\n",
       "      <td>25.0</td>\n",
       "      <td>1</td>\n",
       "      <td>2</td>\n",
       "      <td>113781</td>\n",
       "      <td>151.5500</td>\n",
       "      <td>C22 C26</td>\n",
       "      <td>S</td>\n",
       "    </tr>\n",
       "  </tbody>\n",
       "</table>\n",
       "</div>"
      ],
      "text/plain": [
       "     PassengerId  Survived  Pclass  \\\n",
       "177          178         0       1   \n",
       "297          298         0       1   \n",
       "498          499         0       1   \n",
       "\n",
       "                                                Name     Sex   Age  SibSp  \\\n",
       "177                       Isham, Miss. Ann Elizabeth  female  50.0      0   \n",
       "297                     Allison, Miss. Helen Loraine  female   2.0      1   \n",
       "498  Allison, Mrs. Hudson J C (Bessie Waldo Daniels)  female  25.0      1   \n",
       "\n",
       "     Parch    Ticket      Fare    Cabin Embarked  \n",
       "177      0  PC 17595   28.7125      C49        C  \n",
       "297      2    113781  151.5500  C22 C26        S  \n",
       "498      2    113781  151.5500  C22 C26        S  "
      ]
     },
     "execution_count": 37,
     "metadata": {},
     "output_type": "execute_result"
    }
   ],
   "source": [
    "data_train.loc[(data_train['Sex'] == 'female') & (data_train['Survived'] == 0) & (data_train['Pclass'] == 1)]"
   ]
  },
  {
   "cell_type": "markdown",
   "id": "206d10ea",
   "metadata": {
    "id": "YGK6gpaMz_-U"
   },
   "source": [
    "Было предположение, что погибшие женщины в 1-м классе преклонного возраста, но они разного возраста "
   ]
  },
  {
   "cell_type": "markdown",
   "id": "bbe3b2c0",
   "metadata": {
    "id": "german-variety"
   },
   "source": [
    "#### Аналитика шансов на выживание в зависимости от того, в каком порту сел пассажир"
   ]
  },
  {
   "cell_type": "code",
   "execution_count": 38,
   "id": "053be9dc",
   "metadata": {
    "colab": {
     "base_uri": "https://localhost:8080/"
    },
    "id": "proof-somewhere",
    "outputId": "821d0642-7551-47f6-ad5f-25727066f38b"
   },
   "outputs": [
    {
     "data": {
      "text/plain": [
       "Embarked  Survived\n",
       "C         1            93\n",
       "          0            75\n",
       "Q         0            47\n",
       "          1            30\n",
       "S         0           427\n",
       "          1           217\n",
       "Name: Survived, dtype: int64"
      ]
     },
     "execution_count": 38,
     "metadata": {},
     "output_type": "execute_result"
    }
   ],
   "source": [
    "data_train.groupby(['Embarked']).Survived.value_counts()"
   ]
  },
  {
   "cell_type": "code",
   "execution_count": 39,
   "id": "6f0d4161",
   "metadata": {
    "colab": {
     "base_uri": "https://localhost:8080/",
     "height": 401
    },
    "id": "productive-handling",
    "outputId": "aa221b4f-2fac-422e-f1a2-c7d6ed43e699"
   },
   "outputs": [
    {
     "data": {
      "text/plain": [
       "<seaborn.axisgrid.FacetGrid at 0x130aa051888>"
      ]
     },
     "execution_count": 39,
     "metadata": {},
     "output_type": "execute_result"
    },
    {
     "data": {
      "image/png": "[encoded data removed]",
      "text/plain": [
       "<Figure size 1080x360 with 3 Axes>"
      ]
     },
     "metadata": {
      "needs_background": "light"
     },
     "output_type": "display_data"
    }
   ],
   "source": [
    "sns.catplot(x='Survived', col='Embarked', kind='count', data=data_train, palette='Set2')"
   ]
  },
  {
   "cell_type": "markdown",
   "id": "68659c2c",
   "metadata": {
    "id": "welEa0JhLPHE"
   },
   "source": [
    "В абсолютных значениях больше всего выживших и погибших сели на корабль в порту S"
   ]
  },
  {
   "cell_type": "code",
   "execution_count": 40,
   "id": "f251af9c",
   "metadata": {
    "colab": {
     "base_uri": "https://localhost:8080/"
    },
    "id": "square-fancy",
    "outputId": "e3f30fd8-98d9-41cb-f67f-c19174972a8f"
   },
   "outputs": [
    {
     "data": {
      "text/plain": [
       "Embarked  Survived\n",
       "C         1           0.553571\n",
       "          0           0.446429\n",
       "Q         0           0.610390\n",
       "          1           0.389610\n",
       "S         0           0.663043\n",
       "          1           0.336957\n",
       "Name: Survived, dtype: float64"
      ]
     },
     "execution_count": 40,
     "metadata": {},
     "output_type": "execute_result"
    }
   ],
   "source": [
    "data_train.groupby(['Embarked']).Survived.value_counts(normalize = True)"
   ]
  },
  {
   "cell_type": "code",
   "execution_count": 41,
   "id": "4175ef39",
   "metadata": {
    "colab": {
     "base_uri": "https://localhost:8080/",
     "height": 387
    },
    "id": "7SvwPArbJrbs",
    "outputId": "a3e1342c-ef47-449f-c421-a447512a4c2d"
   },
   "outputs": [
    {
     "data": {
      "image/png": "[encoded data removed]",
      "text/plain": [
       "<Figure size 411.875x360 with 1 Axes>"
      ]
     },
     "metadata": {
      "needs_background": "light"
     },
     "output_type": "display_data"
    }
   ],
   "source": [
    "df = data_train.groupby(['Embarked']).Survived.value_counts(normalize = True).mul(100).rename('percent').reset_index()\n",
    "df.columns = ['Embarked', 'Survived', 'Passengers']\n",
    "\n",
    "g = sns.catplot(data = df, x = 'Embarked', y = 'Passengers', hue = 'Survived', kind = 'bar', palette='Paired')\n",
    "g.ax.set_ylim(0,100)\n",
    "utils.plot_values(g, frequency=True, scales=(-0.2,2))"
   ]
  },
  {
   "cell_type": "markdown",
   "id": "69759822",
   "metadata": {
    "id": "positive-mercy"
   },
   "source": [
    "Embarked - порт в котором сел пассажир на корабль. \n",
    "1. В процентном соотношении, наибольшие шансы на выживание у людей, севших в порту C (55%)\n",
    "2. В абсолютном соотношении - больше всего выжило людей из порта S (217)"
   ]
  },
  {
   "cell_type": "code",
   "execution_count": 42,
   "id": "ff8fba56",
   "metadata": {
    "colab": {
     "base_uri": "https://localhost:8080/",
     "height": 204
    },
    "id": "chronic-shepherd",
    "outputId": "c7a4acd0-2995-4d67-9a69-88fd6b76280f",
    "scrolled": true
   },
   "outputs": [
    {
     "data": {
      "text/html": [
       "<div>\n",
       "<style scoped>\n",
       "    .dataframe tbody tr th:only-of-type {\n",
       "        vertical-align: middle;\n",
       "    }\n",
       "\n",
       "    .dataframe tbody tr th {\n",
       "        vertical-align: top;\n",
       "    }\n",
       "\n",
       "    .dataframe thead tr th {\n",
       "        text-align: left;\n",
       "    }\n",
       "\n",
       "    .dataframe thead tr:last-of-type th {\n",
       "        text-align: right;\n",
       "    }\n",
       "</style>\n",
       "<table border=\"1\" class=\"dataframe\">\n",
       "  <thead>\n",
       "    <tr>\n",
       "      <th>Embarked</th>\n",
       "      <th colspan=\"3\" halign=\"left\">C</th>\n",
       "      <th colspan=\"3\" halign=\"left\">Q</th>\n",
       "      <th colspan=\"3\" halign=\"left\">S</th>\n",
       "      <th>All</th>\n",
       "    </tr>\n",
       "    <tr>\n",
       "      <th>Pclass</th>\n",
       "      <th>1</th>\n",
       "      <th>2</th>\n",
       "      <th>3</th>\n",
       "      <th>1</th>\n",
       "      <th>2</th>\n",
       "      <th>3</th>\n",
       "      <th>1</th>\n",
       "      <th>2</th>\n",
       "      <th>3</th>\n",
       "      <th></th>\n",
       "    </tr>\n",
       "    <tr>\n",
       "      <th>Survived</th>\n",
       "      <th></th>\n",
       "      <th></th>\n",
       "      <th></th>\n",
       "      <th></th>\n",
       "      <th></th>\n",
       "      <th></th>\n",
       "      <th></th>\n",
       "      <th></th>\n",
       "      <th></th>\n",
       "      <th></th>\n",
       "    </tr>\n",
       "  </thead>\n",
       "  <tbody>\n",
       "    <tr>\n",
       "      <th>0</th>\n",
       "      <td>26</td>\n",
       "      <td>8</td>\n",
       "      <td>41</td>\n",
       "      <td>1</td>\n",
       "      <td>1</td>\n",
       "      <td>45</td>\n",
       "      <td>53</td>\n",
       "      <td>88</td>\n",
       "      <td>286</td>\n",
       "      <td>549</td>\n",
       "    </tr>\n",
       "    <tr>\n",
       "      <th>1</th>\n",
       "      <td>59</td>\n",
       "      <td>9</td>\n",
       "      <td>25</td>\n",
       "      <td>1</td>\n",
       "      <td>2</td>\n",
       "      <td>27</td>\n",
       "      <td>74</td>\n",
       "      <td>76</td>\n",
       "      <td>67</td>\n",
       "      <td>340</td>\n",
       "    </tr>\n",
       "    <tr>\n",
       "      <th>All</th>\n",
       "      <td>85</td>\n",
       "      <td>17</td>\n",
       "      <td>66</td>\n",
       "      <td>2</td>\n",
       "      <td>3</td>\n",
       "      <td>72</td>\n",
       "      <td>127</td>\n",
       "      <td>164</td>\n",
       "      <td>353</td>\n",
       "      <td>889</td>\n",
       "    </tr>\n",
       "  </tbody>\n",
       "</table>\n",
       "</div>"
      ],
      "text/plain": [
       "Embarked   C          Q           S            All\n",
       "Pclass     1   2   3  1  2   3    1    2    3     \n",
       "Survived                                          \n",
       "0         26   8  41  1  1  45   53   88  286  549\n",
       "1         59   9  25  1  2  27   74   76   67  340\n",
       "All       85  17  66  2  3  72  127  164  353  889"
      ]
     },
     "execution_count": 42,
     "metadata": {},
     "output_type": "execute_result"
    }
   ],
   "source": [
    "pd.crosstab([data_train.Survived],[data_train.Embarked, data_train.Pclass],margins = True)"
   ]
  },
  {
   "cell_type": "markdown",
   "id": "00f87099",
   "metadata": {
    "id": "motivated-deposit"
   },
   "source": [
    "Учитывая разбивку по классам:\n",
    "1. Большая часть выживших из 1 и 2 класса зашли в порту S\n",
    "2. Больше всего выживших из 3 класса в относительном значении сели на корабль в порту Q\n",
    "3. Больше половины всех погибших - это зашедшие в порту S пассажиры 3-го класса"
   ]
  },
  {
   "cell_type": "code",
   "execution_count": 43,
   "id": "a8e4fb5f",
   "metadata": {
    "colab": {
     "base_uri": "https://localhost:8080/"
    },
    "id": "lesser-final",
    "outputId": "c8c0880e-201d-4db9-967e-e6e5d0d22610"
   },
   "outputs": [
    {
     "data": {
      "text/plain": [
       "Embarked  Sex   \n",
       "C         female    28.344262\n",
       "          male      32.998841\n",
       "Q         female    24.291667\n",
       "          male      30.937500\n",
       "S         female    27.771505\n",
       "          male      30.291440\n",
       "Name: Age, dtype: float64"
      ]
     },
     "execution_count": 43,
     "metadata": {},
     "output_type": "execute_result"
    }
   ],
   "source": [
    "data_train.groupby(['Embarked', 'Sex']).Age.mean()"
   ]
  },
  {
   "cell_type": "code",
   "execution_count": 44,
   "id": "e2592261",
   "metadata": {
    "colab": {
     "base_uri": "https://localhost:8080/"
    },
    "id": "twenty-harvest",
    "outputId": "de245b3e-f97b-46fc-f59b-7e1b153bafe8",
    "scrolled": true
   },
   "outputs": [
    {
     "data": {
      "text/plain": [
       "Embarked  Sex     Survived\n",
       "C         female  0           25.583333\n",
       "                  1           28.645455\n",
       "          male    0           34.744444\n",
       "                  1           29.725833\n",
       "Q         female  0           28.100000\n",
       "                  1           21.571429\n",
       "          male    0           31.066667\n",
       "                  1           29.000000\n",
       "S         female  0           24.698113\n",
       "                  1           28.996241\n",
       "          male    0           31.176667\n",
       "                  1           26.386029\n",
       "Name: Age, dtype: float64"
      ]
     },
     "execution_count": 44,
     "metadata": {},
     "output_type": "execute_result"
    }
   ],
   "source": [
    "data_train.groupby(['Embarked', 'Sex', 'Survived']).Age.mean()"
   ]
  },
  {
   "cell_type": "code",
   "execution_count": 45,
   "id": "d79b59c1",
   "metadata": {
    "colab": {
     "base_uri": "https://localhost:8080/",
     "height": 401
    },
    "id": "PG_-ZnhVOmFt",
    "outputId": "7db005d3-5995-4b51-ce9d-233e44e9b444"
   },
   "outputs": [
    {
     "data": {
      "text/plain": [
       "<seaborn.axisgrid.FacetGrid at 0x130a79a4648>"
      ]
     },
     "execution_count": 45,
     "metadata": {},
     "output_type": "execute_result"
    },
    {
     "data": {
      "image/png": "[encoded data removed]",
      "text/plain": [
       "<Figure size 1150.5x360 with 3 Axes>"
      ]
     },
     "metadata": {
      "needs_background": "light"
     },
     "output_type": "display_data"
    }
   ],
   "source": [
    "\n",
    "sns.catplot(col = 'Embarked', x = 'Survived', hue = 'Sex', y = 'Age', kind = 'box', data = data_train, palette='husl', dodge = True)"
   ]
  },
  {
   "cell_type": "code",
   "execution_count": 46,
   "id": "fa9a4a81",
   "metadata": {
    "colab": {
     "base_uri": "https://localhost:8080/",
     "height": 401
    },
    "id": "_qvx3JKYNEE-",
    "outputId": "4f3de775-647b-460e-83b0-ce0e23e3162b"
   },
   "outputs": [
    {
     "data": {
      "text/plain": [
       "<seaborn.axisgrid.FacetGrid at 0x130aa495e48>"
      ]
     },
     "execution_count": 46,
     "metadata": {},
     "output_type": "execute_result"
    },
    {
     "data": {
      "image/png": "[encoded data removed]",
      "text/plain": [
       "<Figure size 1150.5x360 with 3 Axes>"
      ]
     },
     "metadata": {
      "needs_background": "light"
     },
     "output_type": "display_data"
    }
   ],
   "source": [
    "sns.catplot(col = 'Embarked', x = 'Survived', hue = 'Sex', y = 'Age', kind = 'box', data = data_train, palette='husl')"
   ]
  },
  {
   "cell_type": "markdown",
   "id": "ef187be5",
   "metadata": {
    "id": "gross-demand"
   },
   "source": [
    "1. Более взрослые люди садились на корабль в порту С\n",
    "2. Самые молодые девушки садились на корабль в порту Q\n",
    "3. Шансы на выживание у более возрастных девушек (28+) из порта С и S выше. В порту Q - наоборот\n",
    "4. При этом более взрослые мужчины вне зависимости от порта имели умирали чаще"
   ]
  },
  {
   "cell_type": "code",
   "execution_count": 47,
   "id": "0b1cd615",
   "metadata": {
    "colab": {
     "base_uri": "https://localhost:8080/",
     "height": 235
    },
    "id": "floating-assets",
    "outputId": "eba31499-3353-4689-9fb7-1015f8986525"
   },
   "outputs": [
    {
     "data": {
      "text/html": [
       "<div>\n",
       "<style scoped>\n",
       "    .dataframe tbody tr th:only-of-type {\n",
       "        vertical-align: middle;\n",
       "    }\n",
       "\n",
       "    .dataframe tbody tr th {\n",
       "        vertical-align: top;\n",
       "    }\n",
       "\n",
       "    .dataframe thead tr th {\n",
       "        text-align: left;\n",
       "    }\n",
       "\n",
       "    .dataframe thead tr:last-of-type th {\n",
       "        text-align: right;\n",
       "    }\n",
       "</style>\n",
       "<table border=\"1\" class=\"dataframe\">\n",
       "  <thead>\n",
       "    <tr>\n",
       "      <th>Embarked</th>\n",
       "      <th colspan=\"6\" halign=\"left\">C</th>\n",
       "      <th colspan=\"6\" halign=\"left\">Q</th>\n",
       "      <th colspan=\"6\" halign=\"left\">S</th>\n",
       "      <th>All</th>\n",
       "    </tr>\n",
       "    <tr>\n",
       "      <th>Pclass</th>\n",
       "      <th colspan=\"2\" halign=\"left\">1</th>\n",
       "      <th colspan=\"2\" halign=\"left\">2</th>\n",
       "      <th colspan=\"2\" halign=\"left\">3</th>\n",
       "      <th colspan=\"2\" halign=\"left\">1</th>\n",
       "      <th colspan=\"2\" halign=\"left\">2</th>\n",
       "      <th colspan=\"2\" halign=\"left\">3</th>\n",
       "      <th colspan=\"2\" halign=\"left\">1</th>\n",
       "      <th colspan=\"2\" halign=\"left\">2</th>\n",
       "      <th colspan=\"2\" halign=\"left\">3</th>\n",
       "      <th></th>\n",
       "    </tr>\n",
       "    <tr>\n",
       "      <th>Sex</th>\n",
       "      <th>female</th>\n",
       "      <th>male</th>\n",
       "      <th>female</th>\n",
       "      <th>male</th>\n",
       "      <th>female</th>\n",
       "      <th>male</th>\n",
       "      <th>female</th>\n",
       "      <th>male</th>\n",
       "      <th>female</th>\n",
       "      <th>male</th>\n",
       "      <th>female</th>\n",
       "      <th>male</th>\n",
       "      <th>female</th>\n",
       "      <th>male</th>\n",
       "      <th>female</th>\n",
       "      <th>male</th>\n",
       "      <th>female</th>\n",
       "      <th>male</th>\n",
       "      <th></th>\n",
       "    </tr>\n",
       "    <tr>\n",
       "      <th>Survived</th>\n",
       "      <th></th>\n",
       "      <th></th>\n",
       "      <th></th>\n",
       "      <th></th>\n",
       "      <th></th>\n",
       "      <th></th>\n",
       "      <th></th>\n",
       "      <th></th>\n",
       "      <th></th>\n",
       "      <th></th>\n",
       "      <th></th>\n",
       "      <th></th>\n",
       "      <th></th>\n",
       "      <th></th>\n",
       "      <th></th>\n",
       "      <th></th>\n",
       "      <th></th>\n",
       "      <th></th>\n",
       "      <th></th>\n",
       "    </tr>\n",
       "  </thead>\n",
       "  <tbody>\n",
       "    <tr>\n",
       "      <th>0</th>\n",
       "      <td>1.0</td>\n",
       "      <td>25.0</td>\n",
       "      <td>NaN</td>\n",
       "      <td>8.0</td>\n",
       "      <td>8.0</td>\n",
       "      <td>33.0</td>\n",
       "      <td>NaN</td>\n",
       "      <td>1.0</td>\n",
       "      <td>NaN</td>\n",
       "      <td>1.0</td>\n",
       "      <td>9.0</td>\n",
       "      <td>36.0</td>\n",
       "      <td>2.0</td>\n",
       "      <td>51.0</td>\n",
       "      <td>6.0</td>\n",
       "      <td>82.0</td>\n",
       "      <td>55.0</td>\n",
       "      <td>231.0</td>\n",
       "      <td>549</td>\n",
       "    </tr>\n",
       "    <tr>\n",
       "      <th>1</th>\n",
       "      <td>42.0</td>\n",
       "      <td>17.0</td>\n",
       "      <td>7.0</td>\n",
       "      <td>2.0</td>\n",
       "      <td>15.0</td>\n",
       "      <td>10.0</td>\n",
       "      <td>1.0</td>\n",
       "      <td>NaN</td>\n",
       "      <td>2.0</td>\n",
       "      <td>NaN</td>\n",
       "      <td>24.0</td>\n",
       "      <td>3.0</td>\n",
       "      <td>46.0</td>\n",
       "      <td>28.0</td>\n",
       "      <td>61.0</td>\n",
       "      <td>15.0</td>\n",
       "      <td>33.0</td>\n",
       "      <td>34.0</td>\n",
       "      <td>340</td>\n",
       "    </tr>\n",
       "    <tr>\n",
       "      <th>All</th>\n",
       "      <td>43.0</td>\n",
       "      <td>42.0</td>\n",
       "      <td>7.0</td>\n",
       "      <td>10.0</td>\n",
       "      <td>23.0</td>\n",
       "      <td>43.0</td>\n",
       "      <td>1.0</td>\n",
       "      <td>1.0</td>\n",
       "      <td>2.0</td>\n",
       "      <td>1.0</td>\n",
       "      <td>33.0</td>\n",
       "      <td>39.0</td>\n",
       "      <td>48.0</td>\n",
       "      <td>79.0</td>\n",
       "      <td>67.0</td>\n",
       "      <td>97.0</td>\n",
       "      <td>88.0</td>\n",
       "      <td>265.0</td>\n",
       "      <td>889</td>\n",
       "    </tr>\n",
       "  </tbody>\n",
       "</table>\n",
       "</div>"
      ],
      "text/plain": [
       "Embarked      C                                      Q                   \\\n",
       "Pclass        1            2            3            1           2        \n",
       "Sex      female  male female  male female  male female male female male   \n",
       "Survived                                                                  \n",
       "0           1.0  25.0    NaN   8.0    8.0  33.0    NaN  1.0    NaN  1.0   \n",
       "1          42.0  17.0    7.0   2.0   15.0  10.0    1.0  NaN    2.0  NaN   \n",
       "All        43.0  42.0    7.0  10.0   23.0  43.0    1.0  1.0    2.0  1.0   \n",
       "\n",
       "Embarked                   S                                   All  \n",
       "Pclass        3            1            2            3              \n",
       "Sex      female  male female  male female  male female   male       \n",
       "Survived                                                            \n",
       "0           9.0  36.0    2.0  51.0    6.0  82.0   55.0  231.0  549  \n",
       "1          24.0   3.0   46.0  28.0   61.0  15.0   33.0   34.0  340  \n",
       "All        33.0  39.0   48.0  79.0   67.0  97.0   88.0  265.0  889  "
      ]
     },
     "execution_count": 47,
     "metadata": {},
     "output_type": "execute_result"
    }
   ],
   "source": [
    "pd.crosstab([data_train.Survived],[data_train.Embarked, data_train.Pclass, data_train.Sex],\n",
    "            values = data_train.Name, aggfunc = 'count',margins = True)"
   ]
  },
  {
   "cell_type": "markdown",
   "id": "7e97ccb9",
   "metadata": {
    "id": "innovative-listing"
   },
   "source": [
    "1. Все женщины из 2-го класса и почти все из 1-го класса, зашедшие на корабль в порту С  - выжили\n",
    "2. Все мужчины из 1 и 2 класса, зашедшие в порту Q - погибли\n",
    "3. Больше всего женщин из 1 и 2 класса выживало (в абсолютном значении), при условии что они сели на корабль в порту S. В относительном - шансов из порта С было больше\n",
    "4. При этом почти все мужчины из 3 класса, севших в порту S - погибли\n",
    "5. Больше всего мужчин во всех классах выжило из порта С (в относительном значении)"
   ]
  },
  {
   "cell_type": "markdown",
   "id": "18efb835",
   "metadata": {
    "id": "female-workstation"
   },
   "source": [
    "#### Аналитика цен на билеты"
   ]
  },
  {
   "cell_type": "code",
   "execution_count": 48,
   "id": "14cf9d8a",
   "metadata": {
    "colab": {
     "base_uri": "https://localhost:8080/"
    },
    "id": "included-significance",
    "outputId": "6bc4c0b5-b895-433c-e322-fa4cab3955f3"
   },
   "outputs": [
    {
     "data": {
      "text/plain": [
       "Pclass  Sex   \n",
       "1       female    106.125798\n",
       "        male       67.226127\n",
       "2       female     21.970121\n",
       "        male       19.741782\n",
       "3       female     16.118810\n",
       "        male       12.661633\n",
       "Name: Fare, dtype: float64"
      ]
     },
     "execution_count": 48,
     "metadata": {},
     "output_type": "execute_result"
    }
   ],
   "source": [
    "data_train.groupby(['Pclass','Sex']).Fare.mean()"
   ]
  },
  {
   "cell_type": "code",
   "execution_count": 49,
   "id": "9f9d8e17",
   "metadata": {
    "colab": {
     "base_uri": "https://localhost:8080/"
    },
    "id": "completed-kinase",
    "outputId": "84701722-1929-4efc-88bf-2448b1ba9127",
    "scrolled": true
   },
   "outputs": [
    {
     "data": {
      "text/plain": [
       "Survived\n",
       "0    22.117887\n",
       "1    48.395408\n",
       "Name: Fare, dtype: float64"
      ]
     },
     "execution_count": 49,
     "metadata": {},
     "output_type": "execute_result"
    }
   ],
   "source": [
    "data_train.groupby(['Survived']).Fare.mean()"
   ]
  },
  {
   "cell_type": "code",
   "execution_count": 50,
   "id": "b275ae5c",
   "metadata": {
    "colab": {
     "base_uri": "https://localhost:8080/"
    },
    "id": "subjective-difficulty",
    "outputId": "023d3f06-b3a7-4643-8bbf-063ee7e69066"
   },
   "outputs": [
    {
     "data": {
      "text/plain": [
       "Survived\n",
       "0    549\n",
       "1    342\n",
       "Name: Fare, dtype: int64"
      ]
     },
     "execution_count": 50,
     "metadata": {},
     "output_type": "execute_result"
    }
   ],
   "source": [
    "data_train.groupby(['Survived']).Fare.count()"
   ]
  },
  {
   "cell_type": "code",
   "execution_count": 51,
   "id": "c10c0b73",
   "metadata": {
    "colab": {
     "base_uri": "https://localhost:8080/"
    },
    "id": "visible-collaboration",
    "outputId": "51f4efcc-b8e1-48b7-db13-52eab544c17d",
    "scrolled": true
   },
   "outputs": [
    {
     "data": {
      "text/plain": [
       "Embarked  Survived\n",
       "C         0           35.443335\n",
       "          1           79.720926\n",
       "Q         0           13.335904\n",
       "          1           13.182227\n",
       "S         0           20.743987\n",
       "          1           39.547081\n",
       "Name: Fare, dtype: float64"
      ]
     },
     "execution_count": 51,
     "metadata": {},
     "output_type": "execute_result"
    }
   ],
   "source": [
    "data_train.groupby(['Embarked', 'Survived']).Fare.mean()"
   ]
  },
  {
   "cell_type": "code",
   "execution_count": 52,
   "id": "b7c6617d",
   "metadata": {
    "colab": {
     "base_uri": "https://localhost:8080/",
     "height": 401
    },
    "id": "UAGBJ2-1OoBg",
    "outputId": "14dfd280-1e0f-46e9-8fa7-ea0d011204f7"
   },
   "outputs": [
    {
     "data": {
      "text/plain": [
       "<seaborn.axisgrid.FacetGrid at 0x130aac4cd48>"
      ]
     },
     "execution_count": 52,
     "metadata": {},
     "output_type": "execute_result"
    },
    {
     "data": {
      "image/png": "[encoded data removed]",
      "text/plain": [
       "<Figure size 1080x360 with 3 Axes>"
      ]
     },
     "metadata": {
      "needs_background": "light"
     },
     "output_type": "display_data"
    }
   ],
   "source": [
    "sns.catplot(col = 'Embarked', data = data_train[data_train['Fare']<150], x = 'Survived', y = 'Fare', kind = 'box', palette='husl')"
   ]
  },
  {
   "cell_type": "code",
   "execution_count": 53,
   "id": "40bfd914",
   "metadata": {
    "colab": {
     "base_uri": "https://localhost:8080/"
    },
    "id": "alert-start",
    "outputId": "31cff2f5-8ce2-42e8-c195-07f28cd7c604"
   },
   "outputs": [
    {
     "data": {
      "text/plain": [
       "Pclass  Sex     Survived\n",
       "1       female  0           110.604167\n",
       "                1           105.978159\n",
       "        male    0            62.894910\n",
       "                1            74.637320\n",
       "2       female  0            18.250000\n",
       "                1            22.288989\n",
       "        male    0            19.488965\n",
       "                1            21.095100\n",
       "3       female  0            19.773093\n",
       "                1            12.464526\n",
       "        male    0            12.204469\n",
       "                1            15.579696\n",
       "Name: Fare, dtype: float64"
      ]
     },
     "execution_count": 53,
     "metadata": {},
     "output_type": "execute_result"
    }
   ],
   "source": [
    "data_train.groupby(['Pclass','Sex', 'Survived']).Fare.mean()"
   ]
  },
  {
   "cell_type": "markdown",
   "id": "8b11fc12",
   "metadata": {
    "id": "adaptive-petersburg"
   },
   "source": [
    "1. У женщин средняя цена на билет выше. Получается что у женщин были более дорогие билеты\n",
    "2. У выживших были более дорогие билеты, при этом общее количество билетов у выживших было меньше (потому что большая часть дорогих билетов была у женщин 1-го класса)\n",
    "3. Люди, севшие на корабль в портах С и S и выжили, заплатили за билеты больше чем те же кто сел в этих портах, но погиб\n",
    "4. Судя по цене билетов и тех, кто сел на корабль в порту Q - они все нахоидились в 3 классе"
   ]
  },
  {
   "cell_type": "code",
   "execution_count": 54,
   "id": "eaaafabc",
   "metadata": {
    "colab": {
     "base_uri": "https://localhost:8080/",
     "height": 512
    },
    "id": "arctic-player",
    "outputId": "fdf2de51-045e-471a-864a-10310243b7ce"
   },
   "outputs": [
    {
     "data": {
      "text/html": [
       "<div>\n",
       "<style scoped>\n",
       "    .dataframe tbody tr th:only-of-type {\n",
       "        vertical-align: middle;\n",
       "    }\n",
       "\n",
       "    .dataframe tbody tr th {\n",
       "        vertical-align: top;\n",
       "    }\n",
       "\n",
       "    .dataframe thead th {\n",
       "        text-align: right;\n",
       "    }\n",
       "</style>\n",
       "<table border=\"1\" class=\"dataframe\">\n",
       "  <thead>\n",
       "    <tr style=\"text-align: right;\">\n",
       "      <th></th>\n",
       "      <th>PassengerId</th>\n",
       "      <th>Survived</th>\n",
       "      <th>Pclass</th>\n",
       "      <th>Name</th>\n",
       "      <th>Sex</th>\n",
       "      <th>Age</th>\n",
       "      <th>SibSp</th>\n",
       "      <th>Parch</th>\n",
       "      <th>Ticket</th>\n",
       "      <th>Fare</th>\n",
       "      <th>Cabin</th>\n",
       "      <th>Embarked</th>\n",
       "    </tr>\n",
       "  </thead>\n",
       "  <tbody>\n",
       "    <tr>\n",
       "      <th>179</th>\n",
       "      <td>180</td>\n",
       "      <td>0</td>\n",
       "      <td>3</td>\n",
       "      <td>Leonard, Mr. Lionel</td>\n",
       "      <td>male</td>\n",
       "      <td>36.0</td>\n",
       "      <td>0</td>\n",
       "      <td>0</td>\n",
       "      <td>LINE</td>\n",
       "      <td>0.0</td>\n",
       "      <td>NaN</td>\n",
       "      <td>S</td>\n",
       "    </tr>\n",
       "    <tr>\n",
       "      <th>263</th>\n",
       "      <td>264</td>\n",
       "      <td>0</td>\n",
       "      <td>1</td>\n",
       "      <td>Harrison, Mr. William</td>\n",
       "      <td>male</td>\n",
       "      <td>40.0</td>\n",
       "      <td>0</td>\n",
       "      <td>0</td>\n",
       "      <td>112059</td>\n",
       "      <td>0.0</td>\n",
       "      <td>B94</td>\n",
       "      <td>S</td>\n",
       "    </tr>\n",
       "    <tr>\n",
       "      <th>271</th>\n",
       "      <td>272</td>\n",
       "      <td>1</td>\n",
       "      <td>3</td>\n",
       "      <td>Tornquist, Mr. William Henry</td>\n",
       "      <td>male</td>\n",
       "      <td>25.0</td>\n",
       "      <td>0</td>\n",
       "      <td>0</td>\n",
       "      <td>LINE</td>\n",
       "      <td>0.0</td>\n",
       "      <td>NaN</td>\n",
       "      <td>S</td>\n",
       "    </tr>\n",
       "    <tr>\n",
       "      <th>277</th>\n",
       "      <td>278</td>\n",
       "      <td>0</td>\n",
       "      <td>2</td>\n",
       "      <td>Parkes, Mr. Francis \"Frank\"</td>\n",
       "      <td>male</td>\n",
       "      <td>NaN</td>\n",
       "      <td>0</td>\n",
       "      <td>0</td>\n",
       "      <td>239853</td>\n",
       "      <td>0.0</td>\n",
       "      <td>NaN</td>\n",
       "      <td>S</td>\n",
       "    </tr>\n",
       "    <tr>\n",
       "      <th>302</th>\n",
       "      <td>303</td>\n",
       "      <td>0</td>\n",
       "      <td>3</td>\n",
       "      <td>Johnson, Mr. William Cahoone Jr</td>\n",
       "      <td>male</td>\n",
       "      <td>19.0</td>\n",
       "      <td>0</td>\n",
       "      <td>0</td>\n",
       "      <td>LINE</td>\n",
       "      <td>0.0</td>\n",
       "      <td>NaN</td>\n",
       "      <td>S</td>\n",
       "    </tr>\n",
       "    <tr>\n",
       "      <th>413</th>\n",
       "      <td>414</td>\n",
       "      <td>0</td>\n",
       "      <td>2</td>\n",
       "      <td>Cunningham, Mr. Alfred Fleming</td>\n",
       "      <td>male</td>\n",
       "      <td>NaN</td>\n",
       "      <td>0</td>\n",
       "      <td>0</td>\n",
       "      <td>239853</td>\n",
       "      <td>0.0</td>\n",
       "      <td>NaN</td>\n",
       "      <td>S</td>\n",
       "    </tr>\n",
       "    <tr>\n",
       "      <th>466</th>\n",
       "      <td>467</td>\n",
       "      <td>0</td>\n",
       "      <td>2</td>\n",
       "      <td>Campbell, Mr. William</td>\n",
       "      <td>male</td>\n",
       "      <td>NaN</td>\n",
       "      <td>0</td>\n",
       "      <td>0</td>\n",
       "      <td>239853</td>\n",
       "      <td>0.0</td>\n",
       "      <td>NaN</td>\n",
       "      <td>S</td>\n",
       "    </tr>\n",
       "    <tr>\n",
       "      <th>481</th>\n",
       "      <td>482</td>\n",
       "      <td>0</td>\n",
       "      <td>2</td>\n",
       "      <td>Frost, Mr. Anthony Wood \"Archie\"</td>\n",
       "      <td>male</td>\n",
       "      <td>NaN</td>\n",
       "      <td>0</td>\n",
       "      <td>0</td>\n",
       "      <td>239854</td>\n",
       "      <td>0.0</td>\n",
       "      <td>NaN</td>\n",
       "      <td>S</td>\n",
       "    </tr>\n",
       "    <tr>\n",
       "      <th>597</th>\n",
       "      <td>598</td>\n",
       "      <td>0</td>\n",
       "      <td>3</td>\n",
       "      <td>Johnson, Mr. Alfred</td>\n",
       "      <td>male</td>\n",
       "      <td>49.0</td>\n",
       "      <td>0</td>\n",
       "      <td>0</td>\n",
       "      <td>LINE</td>\n",
       "      <td>0.0</td>\n",
       "      <td>NaN</td>\n",
       "      <td>S</td>\n",
       "    </tr>\n",
       "    <tr>\n",
       "      <th>633</th>\n",
       "      <td>634</td>\n",
       "      <td>0</td>\n",
       "      <td>1</td>\n",
       "      <td>Parr, Mr. William Henry Marsh</td>\n",
       "      <td>male</td>\n",
       "      <td>NaN</td>\n",
       "      <td>0</td>\n",
       "      <td>0</td>\n",
       "      <td>112052</td>\n",
       "      <td>0.0</td>\n",
       "      <td>NaN</td>\n",
       "      <td>S</td>\n",
       "    </tr>\n",
       "    <tr>\n",
       "      <th>674</th>\n",
       "      <td>675</td>\n",
       "      <td>0</td>\n",
       "      <td>2</td>\n",
       "      <td>Watson, Mr. Ennis Hastings</td>\n",
       "      <td>male</td>\n",
       "      <td>NaN</td>\n",
       "      <td>0</td>\n",
       "      <td>0</td>\n",
       "      <td>239856</td>\n",
       "      <td>0.0</td>\n",
       "      <td>NaN</td>\n",
       "      <td>S</td>\n",
       "    </tr>\n",
       "    <tr>\n",
       "      <th>732</th>\n",
       "      <td>733</td>\n",
       "      <td>0</td>\n",
       "      <td>2</td>\n",
       "      <td>Knight, Mr. Robert J</td>\n",
       "      <td>male</td>\n",
       "      <td>NaN</td>\n",
       "      <td>0</td>\n",
       "      <td>0</td>\n",
       "      <td>239855</td>\n",
       "      <td>0.0</td>\n",
       "      <td>NaN</td>\n",
       "      <td>S</td>\n",
       "    </tr>\n",
       "    <tr>\n",
       "      <th>806</th>\n",
       "      <td>807</td>\n",
       "      <td>0</td>\n",
       "      <td>1</td>\n",
       "      <td>Andrews, Mr. Thomas Jr</td>\n",
       "      <td>male</td>\n",
       "      <td>39.0</td>\n",
       "      <td>0</td>\n",
       "      <td>0</td>\n",
       "      <td>112050</td>\n",
       "      <td>0.0</td>\n",
       "      <td>A36</td>\n",
       "      <td>S</td>\n",
       "    </tr>\n",
       "    <tr>\n",
       "      <th>815</th>\n",
       "      <td>816</td>\n",
       "      <td>0</td>\n",
       "      <td>1</td>\n",
       "      <td>Fry, Mr. Richard</td>\n",
       "      <td>male</td>\n",
       "      <td>NaN</td>\n",
       "      <td>0</td>\n",
       "      <td>0</td>\n",
       "      <td>112058</td>\n",
       "      <td>0.0</td>\n",
       "      <td>B102</td>\n",
       "      <td>S</td>\n",
       "    </tr>\n",
       "    <tr>\n",
       "      <th>822</th>\n",
       "      <td>823</td>\n",
       "      <td>0</td>\n",
       "      <td>1</td>\n",
       "      <td>Reuchlin, Jonkheer. John George</td>\n",
       "      <td>male</td>\n",
       "      <td>38.0</td>\n",
       "      <td>0</td>\n",
       "      <td>0</td>\n",
       "      <td>19972</td>\n",
       "      <td>0.0</td>\n",
       "      <td>NaN</td>\n",
       "      <td>S</td>\n",
       "    </tr>\n",
       "  </tbody>\n",
       "</table>\n",
       "</div>"
      ],
      "text/plain": [
       "     PassengerId  Survived  Pclass                              Name   Sex  \\\n",
       "179          180         0       3               Leonard, Mr. Lionel  male   \n",
       "263          264         0       1             Harrison, Mr. William  male   \n",
       "271          272         1       3      Tornquist, Mr. William Henry  male   \n",
       "277          278         0       2       Parkes, Mr. Francis \"Frank\"  male   \n",
       "302          303         0       3   Johnson, Mr. William Cahoone Jr  male   \n",
       "413          414         0       2    Cunningham, Mr. Alfred Fleming  male   \n",
       "466          467         0       2             Campbell, Mr. William  male   \n",
       "481          482         0       2  Frost, Mr. Anthony Wood \"Archie\"  male   \n",
       "597          598         0       3               Johnson, Mr. Alfred  male   \n",
       "633          634         0       1     Parr, Mr. William Henry Marsh  male   \n",
       "674          675         0       2        Watson, Mr. Ennis Hastings  male   \n",
       "732          733         0       2              Knight, Mr. Robert J  male   \n",
       "806          807         0       1            Andrews, Mr. Thomas Jr  male   \n",
       "815          816         0       1                  Fry, Mr. Richard  male   \n",
       "822          823         0       1   Reuchlin, Jonkheer. John George  male   \n",
       "\n",
       "      Age  SibSp  Parch  Ticket  Fare Cabin Embarked  \n",
       "179  36.0      0      0    LINE   0.0   NaN        S  \n",
       "263  40.0      0      0  112059   0.0   B94        S  \n",
       "271  25.0      0      0    LINE   0.0   NaN        S  \n",
       "277   NaN      0      0  239853   0.0   NaN        S  \n",
       "302  19.0      0      0    LINE   0.0   NaN        S  \n",
       "413   NaN      0      0  239853   0.0   NaN        S  \n",
       "466   NaN      0      0  239853   0.0   NaN        S  \n",
       "481   NaN      0      0  239854   0.0   NaN        S  \n",
       "597  49.0      0      0    LINE   0.0   NaN        S  \n",
       "633   NaN      0      0  112052   0.0   NaN        S  \n",
       "674   NaN      0      0  239856   0.0   NaN        S  \n",
       "732   NaN      0      0  239855   0.0   NaN        S  \n",
       "806  39.0      0      0  112050   0.0   A36        S  \n",
       "815   NaN      0      0  112058   0.0  B102        S  \n",
       "822  38.0      0      0   19972   0.0   NaN        S  "
      ]
     },
     "execution_count": 54,
     "metadata": {},
     "output_type": "execute_result"
    }
   ],
   "source": [
    "data_train.loc[data_train['Fare'] == 0]"
   ]
  },
  {
   "cell_type": "markdown",
   "id": "89aa2b9d",
   "metadata": {
    "id": "turned-enhancement"
   },
   "source": [
    "Все кто не заплатили за билет были мужчинами и из порта S и практически все умерли (14 человек)"
   ]
  },
  {
   "cell_type": "markdown",
   "id": "685f9c74",
   "metadata": {
    "id": "small-klein"
   },
   "source": [
    "#### Аналитика по родственникам"
   ]
  },
  {
   "cell_type": "code",
   "execution_count": 55,
   "id": "0ef995a0",
   "metadata": {
    "colab": {
     "base_uri": "https://localhost:8080/",
     "height": 204
    },
    "id": "medium-chance",
    "outputId": "6db3d82e-3f7c-468f-8eeb-91a753010dfc"
   },
   "outputs": [
    {
     "data": {
      "text/html": [
       "<div>\n",
       "<style scoped>\n",
       "    .dataframe tbody tr th:only-of-type {\n",
       "        vertical-align: middle;\n",
       "    }\n",
       "\n",
       "    .dataframe tbody tr th {\n",
       "        vertical-align: top;\n",
       "    }\n",
       "\n",
       "    .dataframe thead tr th {\n",
       "        text-align: left;\n",
       "    }\n",
       "\n",
       "    .dataframe thead tr:last-of-type th {\n",
       "        text-align: right;\n",
       "    }\n",
       "</style>\n",
       "<table border=\"1\" class=\"dataframe\">\n",
       "  <thead>\n",
       "    <tr>\n",
       "      <th>Embarked</th>\n",
       "      <th colspan=\"3\" halign=\"left\">C</th>\n",
       "      <th colspan=\"4\" halign=\"left\">Q</th>\n",
       "      <th colspan=\"7\" halign=\"left\">S</th>\n",
       "      <th>All</th>\n",
       "    </tr>\n",
       "    <tr>\n",
       "      <th>SibSp</th>\n",
       "      <th>0</th>\n",
       "      <th>1</th>\n",
       "      <th>2</th>\n",
       "      <th>0</th>\n",
       "      <th>1</th>\n",
       "      <th>2</th>\n",
       "      <th>4</th>\n",
       "      <th>0</th>\n",
       "      <th>1</th>\n",
       "      <th>2</th>\n",
       "      <th>3</th>\n",
       "      <th>4</th>\n",
       "      <th>5</th>\n",
       "      <th>8</th>\n",
       "      <th></th>\n",
       "    </tr>\n",
       "    <tr>\n",
       "      <th>Survived</th>\n",
       "      <th></th>\n",
       "      <th></th>\n",
       "      <th></th>\n",
       "      <th></th>\n",
       "      <th></th>\n",
       "      <th></th>\n",
       "      <th></th>\n",
       "      <th></th>\n",
       "      <th></th>\n",
       "      <th></th>\n",
       "      <th></th>\n",
       "      <th></th>\n",
       "      <th></th>\n",
       "      <th></th>\n",
       "      <th></th>\n",
       "    </tr>\n",
       "  </thead>\n",
       "  <tbody>\n",
       "    <tr>\n",
       "      <th>0</th>\n",
       "      <td>57.0</td>\n",
       "      <td>17.0</td>\n",
       "      <td>1.0</td>\n",
       "      <td>36.0</td>\n",
       "      <td>6.0</td>\n",
       "      <td>1.0</td>\n",
       "      <td>4.0</td>\n",
       "      <td>305.0</td>\n",
       "      <td>74.0</td>\n",
       "      <td>13.0</td>\n",
       "      <td>12.0</td>\n",
       "      <td>11.0</td>\n",
       "      <td>5.0</td>\n",
       "      <td>7.0</td>\n",
       "      <td>549</td>\n",
       "    </tr>\n",
       "    <tr>\n",
       "      <th>1</th>\n",
       "      <td>52.0</td>\n",
       "      <td>36.0</td>\n",
       "      <td>5.0</td>\n",
       "      <td>23.0</td>\n",
       "      <td>5.0</td>\n",
       "      <td>2.0</td>\n",
       "      <td>NaN</td>\n",
       "      <td>133.0</td>\n",
       "      <td>71.0</td>\n",
       "      <td>6.0</td>\n",
       "      <td>4.0</td>\n",
       "      <td>3.0</td>\n",
       "      <td>NaN</td>\n",
       "      <td>NaN</td>\n",
       "      <td>340</td>\n",
       "    </tr>\n",
       "    <tr>\n",
       "      <th>All</th>\n",
       "      <td>109.0</td>\n",
       "      <td>53.0</td>\n",
       "      <td>6.0</td>\n",
       "      <td>59.0</td>\n",
       "      <td>11.0</td>\n",
       "      <td>3.0</td>\n",
       "      <td>4.0</td>\n",
       "      <td>438.0</td>\n",
       "      <td>145.0</td>\n",
       "      <td>19.0</td>\n",
       "      <td>16.0</td>\n",
       "      <td>14.0</td>\n",
       "      <td>5.0</td>\n",
       "      <td>7.0</td>\n",
       "      <td>889</td>\n",
       "    </tr>\n",
       "  </tbody>\n",
       "</table>\n",
       "</div>"
      ],
      "text/plain": [
       "Embarked      C                Q                      S                     \\\n",
       "SibSp         0     1    2     0     1    2    4      0      1     2     3   \n",
       "Survived                                                                     \n",
       "0          57.0  17.0  1.0  36.0   6.0  1.0  4.0  305.0   74.0  13.0  12.0   \n",
       "1          52.0  36.0  5.0  23.0   5.0  2.0  NaN  133.0   71.0   6.0   4.0   \n",
       "All       109.0  53.0  6.0  59.0  11.0  3.0  4.0  438.0  145.0  19.0  16.0   \n",
       "\n",
       "Embarked                  All  \n",
       "SibSp        4    5    8       \n",
       "Survived                       \n",
       "0         11.0  5.0  7.0  549  \n",
       "1          3.0  NaN  NaN  340  \n",
       "All       14.0  5.0  7.0  889  "
      ]
     },
     "execution_count": 55,
     "metadata": {},
     "output_type": "execute_result"
    }
   ],
   "source": [
    "pd.crosstab([data_train.Survived],[data_train.Embarked, data_train.SibSp],\n",
    "            values = data_train.Name, aggfunc = 'count',margins = True)"
   ]
  },
  {
   "cell_type": "markdown",
   "id": "36c5a9f2",
   "metadata": {
    "id": "moving-selling"
   },
   "source": [
    "1. Все семьи от 5 человек, севшие в порту S, погибли.\n",
    "2. Больше всего людей выживало, которые были без родственников\n",
    "3. Вне зависимости от порта, люди с одним родственников выживали намного чаще чем те, у которых было больше одного\n",
    "4. Больше всего одиноких людей выжило из порта S, но в относительном значении - из порта С"
   ]
  },
  {
   "cell_type": "code",
   "execution_count": 56,
   "id": "5933344a",
   "metadata": {
    "colab": {
     "base_uri": "https://localhost:8080/"
    },
    "id": "bizarre-yacht",
    "outputId": "7b47d378-e2c5-47a8-94dc-0960a95631e5"
   },
   "outputs": [
    {
     "data": {
      "text/plain": [
       "Sex     Survived  SibSp\n",
       "female  0         0         37\n",
       "                  1         26\n",
       "                  2          3\n",
       "                  3          7\n",
       "                  4          4\n",
       "                  5          1\n",
       "                  8          3\n",
       "        1         0        137\n",
       "                  1         80\n",
       "                  2         10\n",
       "                  3          4\n",
       "                  4          2\n",
       "male    0         0        361\n",
       "                  1         71\n",
       "                  2         12\n",
       "                  3          5\n",
       "                  4         11\n",
       "                  5          4\n",
       "                  8          4\n",
       "        1         0         73\n",
       "                  1         32\n",
       "                  2          3\n",
       "                  4          1\n",
       "Name: Name, dtype: int64"
      ]
     },
     "execution_count": 56,
     "metadata": {},
     "output_type": "execute_result"
    }
   ],
   "source": [
    "data_train.groupby([data_train.Sex, data_train.Survived, data_train.SibSp]).Name.count()"
   ]
  },
  {
   "cell_type": "code",
   "execution_count": 57,
   "id": "0312800d",
   "metadata": {
    "colab": {
     "base_uri": "https://localhost:8080/",
     "height": 401
    },
    "id": "MRY2er-zRLS0",
    "outputId": "9638473d-3556-41fb-d553-31120d29e814"
   },
   "outputs": [
    {
     "data": {
      "text/plain": [
       "<seaborn.axisgrid.FacetGrid at 0x130ab136448>"
      ]
     },
     "execution_count": 57,
     "metadata": {},
     "output_type": "execute_result"
    },
    {
     "data": {
      "image/png": "[encoded data removed]",
      "text/plain": [
       "<Figure size 790.5x360 with 2 Axes>"
      ]
     },
     "metadata": {
      "needs_background": "light"
     },
     "output_type": "display_data"
    }
   ],
   "source": [
    "sns.catplot(col = 'Survived', x='SibSp', hue='Sex', kind='count', data=data_train, palette='Set2')"
   ]
  },
  {
   "cell_type": "markdown",
   "id": "41544c81",
   "metadata": {
    "id": "classified-colombia"
   },
   "source": [
    "Топ тех кто выживал, в зависимости от количества родственников и пола:\n",
    "1. Женщины одиночки (137)\n",
    "2. Женщины с одним родственником (80)\n",
    "3. Мужчины одиночки (73)\n",
    "4. Мужчины с одним родственником (32)\n",
    "5. Женщины с двумя родственниками (10)"
   ]
  },
  {
   "cell_type": "markdown",
   "id": "3f3feb9d",
   "metadata": {
    "id": "central-hierarchy"
   },
   "source": [
    "#### Аналитика по возрасту"
   ]
  },
  {
   "cell_type": "code",
   "execution_count": 65,
   "id": "3ac2ea16",
   "metadata": {
    "colab": {
     "base_uri": "https://localhost:8080/"
    },
    "id": "phantom-greenhouse",
    "outputId": "f0e366fe-0758-4974-aa90-af02cba29753",
    "scrolled": true
   },
   "outputs": [
    {
     "data": {
      "text/plain": [
       "Pclass  Survived\n",
       "1       1           0.875000\n",
       "        0           0.125000\n",
       "2       1           0.793103\n",
       "        0           0.206897\n",
       "3       0           0.648936\n",
       "        1           0.351064\n",
       "Name: Survived, dtype: float64"
      ]
     },
     "execution_count": 65,
     "metadata": {},
     "output_type": "execute_result"
    }
   ],
   "source": [
    "data_train.loc[data_train['Age'] <= 18].groupby(['Pclass']).Survived.value_counts(normalize = True)"
   ]
  },
  {
   "cell_type": "markdown",
   "id": "8d45107e",
   "metadata": {
    "id": "incorrect-africa"
   },
   "source": [
    "1. В 1 классе: погибал каждый пятый ребенок\n",
    "2. Во 2 классе: погибал каждый четвертый ребенок\n",
    "3. В 3 классе: выживал каждый третий ребенок"
   ]
  },
  {
   "cell_type": "code",
   "execution_count": 66,
   "id": "06e3810c",
   "metadata": {
    "colab": {
     "base_uri": "https://localhost:8080/"
    },
    "id": "exclusive-cheese",
    "outputId": "cca89abc-c21f-4f7b-aef5-204ee1fb16fa"
   },
   "outputs": [
    {
     "data": {
      "text/plain": [
       "Pclass  Survived\n",
       "1       1           0.673077\n",
       "        0           0.326923\n",
       "2       0           0.581560\n",
       "        1           0.418440\n",
       "3       0           0.800781\n",
       "        1           0.199219\n",
       "Name: Survived, dtype: float64"
      ]
     },
     "execution_count": 66,
     "metadata": {},
     "output_type": "execute_result"
    }
   ],
   "source": [
    "data_train.loc[(data_train['Age'] > 18) & (data_train['Age'] <= 60)].groupby(['Pclass']).Survived.value_counts(normalize = True)"
   ]
  },
  {
   "cell_type": "markdown",
   "id": "58f9fd6d",
   "metadata": {
    "id": "detected-target"
   },
   "source": [
    "Шансы на выживание у людей от 20 до 60 лет уменьшаются с каждый классом (во 2 и 3 - меньше 50%)"
   ]
  },
  {
   "cell_type": "code",
   "execution_count": 60,
   "id": "8738bd07",
   "metadata": {
    "colab": {
     "base_uri": "https://localhost:8080/"
    },
    "id": "involved-companion",
    "outputId": "33e1f7e9-4590-4f84-f784-dce676f69bd7",
    "scrolled": true
   },
   "outputs": [
    {
     "data": {
      "text/plain": [
       "Pclass  Survived\n",
       "1       0           0.785714\n",
       "        1           0.214286\n",
       "2       0           0.666667\n",
       "        1           0.333333\n",
       "3       0           0.800000\n",
       "        1           0.200000\n",
       "Name: Survived, dtype: float64"
      ]
     },
     "execution_count": 60,
     "metadata": {},
     "output_type": "execute_result"
    }
   ],
   "source": [
    "data_train.loc[data_train['Age'] > 60].groupby(['Pclass']).Survived.value_counts(normalize = True)"
   ]
  },
  {
   "cell_type": "markdown",
   "id": "a7fc7694",
   "metadata": {
    "id": "enhanced-romance"
   },
   "source": [
    "Больше всего людей преклонного возраста выжило во 2-м классе, причем в 1 и 3 классе - шансы примерно равны"
   ]
  },
  {
   "cell_type": "markdown",
   "id": "6dd22535",
   "metadata": {
    "id": "liable-health"
   },
   "source": [
    "Отсюда можно сделать вывод что приоритетными людьми на спасение из 1-го класса были молодые женщины"
   ]
  },
  {
   "cell_type": "code",
   "execution_count": 61,
   "id": "fc2e4729",
   "metadata": {
    "colab": {
     "base_uri": "https://localhost:8080/"
    },
    "id": "deadly-fault",
    "outputId": "0a8574ba-fd89-44d1-991b-52b62d377089"
   },
   "outputs": [
    {
     "data": {
      "text/plain": [
       "28.343689655172415"
      ]
     },
     "execution_count": 61,
     "metadata": {},
     "output_type": "execute_result"
    }
   ],
   "source": [
    "data_train[data_train['Survived'] == 1].Age.mean()"
   ]
  },
  {
   "cell_type": "code",
   "execution_count": 62,
   "id": "9c5e3ac7",
   "metadata": {
    "colab": {
     "base_uri": "https://localhost:8080/"
    },
    "id": "37Slf5-lSxL3",
    "outputId": "c6a2e7c3-4824-47e8-b197-4569eeb3e2c0"
   },
   "outputs": [
    {
     "data": {
      "text/plain": [
       "30.62617924528302"
      ]
     },
     "execution_count": 62,
     "metadata": {},
     "output_type": "execute_result"
    }
   ],
   "source": [
    "data_train[data_train['Survived'] == 0].Age.mean()"
   ]
  },
  {
   "cell_type": "code",
   "execution_count": 63,
   "id": "576adb04",
   "metadata": {
    "colab": {
     "base_uri": "https://localhost:8080/",
     "height": 446
    },
    "id": "BXZ1Hlr3LYet",
    "outputId": "a8048518-6850-478a-b6bf-030b7ef31cf2"
   },
   "outputs": [
    {
     "data": {
      "text/plain": [
       "<AxesSubplot:ylabel='Frequency'>"
      ]
     },
     "execution_count": 63,
     "metadata": {},
     "output_type": "execute_result"
    },
    {
     "data": {
      "image/png": "[encoded data removed]",
      "text/plain": [
       "<Figure size 720x504 with 1 Axes>"
      ]
     },
     "metadata": {
      "needs_background": "light"
     },
     "output_type": "display_data"
    }
   ],
   "source": [
    "data_train[data_train['Survived']==0].Age.plot.hist(bins=20,edgecolor='black',color='red', alpha = 0.8,figsize=(10,7))\n",
    "data_train[data_train['Survived']==1].Age.plot.hist(color='green',bins=20,edgecolor='black', alpha = 0.5,figsize=(10,7))"
   ]
  },
  {
   "cell_type": "markdown",
   "id": "67bb814c",
   "metadata": {
    "id": "eastern-metropolitan"
   },
   "source": [
    "1. Детей выживало намного больше и все 70+ старики тоже выжили\n",
    "2. Средний возраст погибших и выживших примерно равен. Но в среднем погибали более взрослые люди. Свиг произошел скорей всего за счет того, что дети выживали чаще чем старики и как говорилось ранее - большая часть молодых женщин из 1 класса тоже"
   ]
  },
  {
   "cell_type": "markdown",
   "id": "f72421a6",
   "metadata": {
    "id": "hJdFeQyLTXsv"
   },
   "source": [
    "Матрица корреляций"
   ]
  },
  {
   "cell_type": "code",
   "execution_count": 64,
   "id": "b3758b4b",
   "metadata": {
    "colab": {
     "base_uri": "https://localhost:8080/",
     "height": 429
    },
    "id": "6_7-4JBETY1e",
    "outputId": "ac544098-f550-4164-8edd-1cf849844e08"
   },
   "outputs": [
    {
     "data": {
      "image/png": "[encoded data removed]",
      "text/plain": [
       "<Figure size 576x432 with 2 Axes>"
      ]
     },
     "metadata": {
      "needs_background": "light"
     },
     "output_type": "display_data"
    }
   ],
   "source": [
    "corr = data_train.corr()\n",
    "mask = np.triu(np.ones_like(corr, dtype=bool))\n",
    "\n",
    "sns.heatmap(data_train.corr(),annot=True,cmap='RdYlGn',linewidths=0.1, mask = mask, vmin=-1, vmax=1) \n",
    "fig=plt.gcf()\n",
    "fig.set_size_inches(8,6)\n",
    "plt.show()"
   ]
  },
  {
   "cell_type": "markdown",
   "id": "caff8424",
   "metadata": {
    "id": "BNnptHa5UCY9"
   },
   "source": [
    "Выводы из матрицы корреляции:\n",
    "1. Цена билета отрицательно скоррелирована с классом, что логично\n",
    "2. Есть положительная корреляция между наличием родителей на корабле (Parch) и наличием родственников (SibSp)\n",
    "3. PassengerID слабо скоррелирована со всеми фичами. Эта переменная не несет в себе никакой пользы\n",
    "4. Судя по матрице переменная Survived положительно скоррелирована с ценой билета (Fare) и отрицательно с классом. Отсюда можно сделать вывод что для предсказания переменной Survived можно убрать переменную Pclass или Fare."
   ]
  }
 ],
 "metadata": {
  "colab": {
   "name": "Titanic EDA.ipynb",
   "provenance": []
  },
  "kernelspec": {
   "display_name": "Python 3 (ipykernel)",
   "language": "python",
   "name": "python3"
  },
  "language_info": {
   "codemirror_mode": {
    "name": "ipython",
    "version": 3
   },
   "file_extension": ".py",
   "mimetype": "text/x-python",
   "name": "python",
   "nbconvert_exporter": "python",
   "pygments_lexer": "ipython3",
   "version": "3.9.7"
  }
 },
 "nbformat": 4,
 "nbformat_minor": 5
}
