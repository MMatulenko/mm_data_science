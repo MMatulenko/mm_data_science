{
 "cells": [
  {
   "cell_type": "code",
   "execution_count": 2,
   "id": "d63c8409",
   "metadata": {},
   "outputs": [],
   "source": [
    "import numpy as np\n",
    "import random"
   ]
  },
  {
   "cell_type": "code",
   "execution_count": 3,
   "id": "10a720bc",
   "metadata": {},
   "outputs": [],
   "source": [
    "eye3 = np.eye(3,3)\n",
    "eye5 = np.eye(5,5)"
   ]
  },
  {
   "cell_type": "code",
   "execution_count": 4,
   "id": "78bb8c56",
   "metadata": {},
   "outputs": [
    {
     "name": "stdout",
     "output_type": "stream",
     "text": [
      "Matrix 3x3 with random values: \n",
      "\n",
      "[[0.71212554 0.0198652  0.63234119]\n",
      " [0.77055447 0.22890606 0.35056294]\n",
      " [0.83090079 0.10071692 0.70980019]]\n",
      "\n",
      "Same matrix, but 1x9: \n",
      "\n",
      "[0.71212554 0.0198652  0.63234119 0.77055447 0.22890606 0.35056294\n",
      " 0.83090079 0.10071692 0.70980019]\n",
      "\n",
      "Same matrix, but 9x1: \n",
      "\n",
      "[[0.71212554]\n",
      " [0.0198652 ]\n",
      " [0.63234119]\n",
      " [0.77055447]\n",
      " [0.22890606]\n",
      " [0.35056294]\n",
      " [0.83090079]\n",
      " [0.10071692]\n",
      " [0.70980019]]\n",
      "\n",
      "Same matrix, but 3x3x1: \n",
      "\n",
      "[[[0.71212554 0.0198652  0.63234119]\n",
      "  [0.77055447 0.22890606 0.35056294]\n",
      "  [0.83090079 0.10071692 0.70980019]]]\n",
      "\n",
      "Start matrix 3x3: \n",
      "\n",
      "[[0.71212554 0.0198652  0.63234119]\n",
      " [0.77055447 0.22890606 0.35056294]\n",
      " [0.83090079 0.10071692 0.70980019]]\n"
     ]
    }
   ],
   "source": [
    "rand_eye_3 = np.random.rand(3,3) # 3 x 3\n",
    "print(\"Matrix 3x3 with random values: \\n\\n{}\\n\".format(rand_eye_3))\n",
    "\n",
    "rand_eye_3 = np.reshape(rand_eye_3, 9) # 1 x 9\n",
    "print(\"Same matrix, but 1x9: \\n\\n{}\\n\".format(rand_eye_3))\n",
    "\n",
    "rand_eye_3 = np.reshape(rand_eye_3, (9,1)) # 9 x 1\n",
    "print(\"Same matrix, but 9x1: \\n\\n{}\\n\".format(rand_eye_3))\n",
    "\n",
    "rand_eye_3 = np.reshape(rand_eye_3, (1,3,3)) # 3 x 3 x 1\n",
    "print(\"Same matrix, but 3x3x1: \\n\\n{}\\n\".format(rand_eye_3))\n",
    "\n",
    "rand_eye_3 = np.reshape(rand_eye_3, (3,3)) # back to 3x3\n",
    "print(\"Start matrix 3x3: \\n\\n{}\".format(rand_eye_3))"
   ]
  },
  {
   "cell_type": "code",
   "execution_count": 5,
   "id": "3617a538",
   "metadata": {},
   "outputs": [
    {
     "data": {
      "text/plain": [
       "True"
      ]
     },
     "execution_count": 5,
     "metadata": {},
     "output_type": "execute_result"
    }
   ],
   "source": [
    "eye3 = np.eye(3,3)\n",
    "eye3_copy = np.eye(3,3)\n",
    "np.array_equal(eye3, eye3_copy)"
   ]
  },
  {
   "cell_type": "code",
   "execution_count": 6,
   "id": "909e6b56",
   "metadata": {},
   "outputs": [
    {
     "name": "stdout",
     "output_type": "stream",
     "text": [
      "[[0.80887642 0.5038442  0.27379149]\n",
      " [0.3484735  0.6142462  0.52300193]\n",
      " [0.60478583 0.26496209 0.29454789]\n",
      " [0.88396401 0.38632803 0.40968326]\n",
      " [0.38642078 0.49261453 0.06226373]\n",
      " [0.83147054 0.62578873 0.62584996]]\n",
      "\n",
      "\n",
      "[[0.80887642 0.5038442  0.27379149 0.88396401 0.38632803 0.40968326]\n",
      " [0.3484735  0.6142462  0.52300193 0.38642078 0.49261453 0.06226373]\n",
      " [0.60478583 0.26496209 0.29454789 0.83147054 0.62578873 0.62584996]]\n"
     ]
    }
   ],
   "source": [
    "rande1 = np.random.rand(3,3)\n",
    "rande2 = np.random.rand(3,3)\n",
    "\n",
    "conc_matrix = np.concatenate((rande1,rande2), axis=0)\n",
    "print(conc_matrix)\n",
    "\n",
    "print(\"\\n\")\n",
    "\n",
    "conc_matrix = np.concatenate((rande1,rande2), axis=1)\n",
    "print(conc_matrix)"
   ]
  },
  {
   "cell_type": "code",
   "execution_count": 8,
   "id": "6c853fda",
   "metadata": {},
   "outputs": [
    {
     "name": "stdout",
     "output_type": "stream",
     "text": [
      "CPU times: user 44 µs, sys: 3 µs, total: 47 µs\n",
      "Wall time: 50.8 µs\n",
      "CPU times: user 12 µs, sys: 0 ns, total: 12 µs\n",
      "Wall time: 16 µs\n"
     ]
    },
    {
     "data": {
      "text/plain": [
       "array([[1., 0., 0.],\n",
       "       [0., 1., 0.],\n",
       "       [0., 0., 1.]])"
      ]
     },
     "execution_count": 8,
     "metadata": {},
     "output_type": "execute_result"
    }
   ],
   "source": [
    "%time np.eye(3,3)\n",
    "\n",
    "#%time np.zeros((3,3))\n",
    "\n",
    "def my_eye(a, b):\n",
    "    count=0\n",
    "    nm=np.zeros((a,b))\n",
    "    m = min(a,b)\n",
    "    while (count<m):\n",
    "        nm[count][count]=1\n",
    "        count=count+1\n",
    "    return nm\n",
    "\n",
    "%time my_eye(3,3)\n",
    "#print(my_eye(4,4))\n",
    "# all my functions will work faster"
   ]
  },
  {
   "cell_type": "code",
   "execution_count": 9,
   "id": "126fbb3b",
   "metadata": {},
   "outputs": [
    {
     "name": "stdout",
     "output_type": "stream",
     "text": [
      "CPU times: user 483 µs, sys: 146 µs, total: 629 µs\n",
      "Wall time: 744 µs\n",
      "CPU times: user 54 µs, sys: 4 µs, total: 58 µs\n",
      "Wall time: 61.3 µs\n",
      "[[ 2.4499056  -3.55330674]\n",
      " [-1.40682599  3.74075134]]\n",
      "\n",
      "\n",
      "[[ 2.4499056  -3.55330674]\n",
      " [-1.40682599  3.74075134]]\n"
     ]
    }
   ],
   "source": [
    "# Calculate Inverse Matrix 2x2\n",
    "\n",
    "matrx = np.random.rand(2,2)\n",
    "\n",
    "def invmatrx(a):\n",
    "    det = a[0][0]*a[1][1]-(a[0][1]*a[1][0])\n",
    "    new_A = np.zeros((2,2))\n",
    "    new_A[0][0] = a[1][1]\n",
    "    new_A[0][1] = -a[0][1]\n",
    "    new_A[1][0] = -a[1][0]\n",
    "    new_A[1][1] = a[0][0]\n",
    "    new_A = 1/det * new_A\n",
    "    return new_A\n",
    "    \n",
    "%time np.linalg.inv(matrx)\n",
    "\n",
    "%time invmatrx(matrx)\n",
    "    \n",
    "print(invmatrx(matrx))\n",
    "\n",
    "print(\"\\n\")\n",
    "\n",
    "print(np.linalg.inv(matrx))"
   ]
  }
 ],
 "metadata": {
  "kernelspec": {
   "display_name": "Python 3 (ipykernel)",
   "language": "python",
   "name": "python3"
  },
  "language_info": {
   "codemirror_mode": {
    "name": "ipython",
    "version": 3
   },
   "file_extension": ".py",
   "mimetype": "text/x-python",
   "name": "python",
   "nbconvert_exporter": "python",
   "pygments_lexer": "ipython3",
   "version": "3.9.7"
  }
 },
 "nbformat": 4,
 "nbformat_minor": 5
}
